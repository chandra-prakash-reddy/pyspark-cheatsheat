{
 "cells": [
  {
   "cell_type": "code",
   "execution_count": 1,
   "metadata": {},
   "outputs": [],
   "source": [
    "from pyspark.accumulators import AccumulatorParam"
   ]
  },
  {
   "cell_type": "code",
   "execution_count": 12,
   "metadata": {},
   "outputs": [],
   "source": [
    "class VectorAccumulatorParam(AccumulatorParam):\n",
    "    \n",
    "    def zero(self,value):\n",
    "        return [0.0]*len(value)\n",
    "    \n",
    "    def addInPlace(self,v1,v2):\n",
    "        for i in range(len(v1)):\n",
    "            v1[i]*=v2[i]\n",
    "        return v1            "
   ]
  },
  {
   "cell_type": "code",
   "execution_count": 13,
   "metadata": {},
   "outputs": [
    {
     "data": {
      "text/plain": [
       "[10.0, 20.0, 30.0]"
      ]
     },
     "execution_count": 13,
     "metadata": {},
     "output_type": "execute_result"
    }
   ],
   "source": [
    "vector_accum = sc.accumulator([10.0,20.0,30.0],VectorAccumulatorParam())\n",
    "vector_accum.value"
   ]
  },
  {
   "cell_type": "code",
   "execution_count": 14,
   "metadata": {},
   "outputs": [
    {
     "data": {
      "text/plain": [
       "[10.0, 40.0, 90.0]"
      ]
     },
     "execution_count": 14,
     "metadata": {},
     "output_type": "execute_result"
    }
   ],
   "source": [
    "vector_accum += [1,2,3]\n",
    "vector_accum.value"
   ]
  },
  {
   "cell_type": "code",
   "execution_count": 22,
   "metadata": {},
   "outputs": [],
   "source": [
    "valuesA =[('John',100000),('James',150000),('Emily',650000),('Nina',200000)]\n",
    "tableA =spark.createDataFrame(valuesA , ['name','salary'])"
   ]
  },
  {
   "cell_type": "code",
   "execution_count": 23,
   "metadata": {},
   "outputs": [
    {
     "name": "stdout",
     "output_type": "stream",
     "text": [
      "+-----+------+\n",
      "| name|salary|\n",
      "+-----+------+\n",
      "| John|100000|\n",
      "|James|150000|\n",
      "|Emily|650000|\n",
      "| Nina|200000|\n",
      "+-----+------+\n",
      "\n"
     ]
    }
   ],
   "source": [
    "tableA.show()"
   ]
  },
  {
   "cell_type": "code",
   "execution_count": 26,
   "metadata": {},
   "outputs": [],
   "source": [
    "valuesB =[('Darth Vader',5),('James',2),('Emily',3),('Princess Leia',6)]\n",
    "tableB =spark.createDataFrame(valuesB , ['name','employee_id'])"
   ]
  },
  {
   "cell_type": "code",
   "execution_count": 27,
   "metadata": {},
   "outputs": [
    {
     "name": "stdout",
     "output_type": "stream",
     "text": [
      "+-------------+-----------+\n",
      "|         name|employee_id|\n",
      "+-------------+-----------+\n",
      "|  Darth Vader|          5|\n",
      "|        James|          2|\n",
      "|        Emily|          3|\n",
      "|Princess Leia|          6|\n",
      "+-------------+-----------+\n",
      "\n"
     ]
    }
   ],
   "source": [
    "tableB.show()"
   ]
  },
  {
   "cell_type": "code",
   "execution_count": 28,
   "metadata": {},
   "outputs": [
    {
     "name": "stdout",
     "output_type": "stream",
     "text": [
      "+-----+------+-----+-----------+\n",
      "| name|salary| name|employee_id|\n",
      "+-----+------+-----+-----------+\n",
      "|James|150000|James|          2|\n",
      "|Emily|650000|Emily|          3|\n",
      "+-----+------+-----+-----------+\n",
      "\n"
     ]
    }
   ],
   "source": [
    "inner_join = tableA.join(tableB , tableA.name == tableB.name)\n",
    "inner_join.show()"
   ]
  },
  {
   "cell_type": "code",
   "execution_count": 29,
   "metadata": {},
   "outputs": [
    {
     "name": "stdout",
     "output_type": "stream",
     "text": [
      "+-----+------+-------------+-----------+\n",
      "| name|salary|         name|employee_id|\n",
      "+-----+------+-------------+-----------+\n",
      "|James|150000|        James|          2|\n",
      "| null|  null|Princess Leia|          6|\n",
      "|Emily|650000|        Emily|          3|\n",
      "| null|  null|  Darth Vader|          5|\n",
      "+-----+------+-------------+-----------+\n",
      "\n"
     ]
    }
   ],
   "source": [
    "right_join = tableA.join(tableB , tableA.name == tableB.name, how= 'right')\n",
    "right_join.show()"
   ]
  },
  {
   "cell_type": "code",
   "execution_count": 30,
   "metadata": {},
   "outputs": [
    {
     "name": "stdout",
     "output_type": "stream",
     "text": [
      "+-----+------+-------------+-----------+\n",
      "| name|salary|         name|employee_id|\n",
      "+-----+------+-------------+-----------+\n",
      "|James|150000|        James|          2|\n",
      "| John|100000|         null|       null|\n",
      "| null|  null|Princess Leia|          6|\n",
      "|Emily|650000|        Emily|          3|\n",
      "| Nina|200000|         null|       null|\n",
      "| null|  null|  Darth Vader|          5|\n",
      "+-----+------+-------------+-----------+\n",
      "\n"
     ]
    }
   ],
   "source": [
    "full_join = tableA.join(tableB , tableA.name == tableB.name, how= 'full')\n",
    "full_join.show()"
   ]
  },
  {
   "cell_type": "code",
   "execution_count": null,
   "metadata": {},
   "outputs": [],
   "source": []
  },
  {
   "cell_type": "code",
   "execution_count": null,
   "metadata": {},
   "outputs": [],
   "source": []
  }
 ],
 "metadata": {
  "kernelspec": {
   "display_name": "Python 3",
   "language": "python",
   "name": "python3"
  },
  "language_info": {
   "codemirror_mode": {
    "name": "ipython",
    "version": 3
   },
   "file_extension": ".py",
   "mimetype": "text/x-python",
   "name": "python",
   "nbconvert_exporter": "python",
   "pygments_lexer": "ipython3",
   "version": "3.7.3"
  }
 },
 "nbformat": 4,
 "nbformat_minor": 2
}
