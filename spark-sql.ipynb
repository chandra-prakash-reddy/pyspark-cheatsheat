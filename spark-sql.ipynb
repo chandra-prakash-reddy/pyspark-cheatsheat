{
 "cells": [
  {
   "cell_type": "code",
   "execution_count": 1,
   "metadata": {},
   "outputs": [],
   "source": [
    "from pyspark.sql import SparkSession"
   ]
  },
  {
   "cell_type": "code",
   "execution_count": 2,
   "metadata": {},
   "outputs": [],
   "source": [
    "spark=SparkSession.builder\\\n",
    "                  .appName(\"analyzing airline data\")\\\n",
    "                  .getOrCreate()"
   ]
  },
  {
   "cell_type": "code",
   "execution_count": 3,
   "metadata": {},
   "outputs": [],
   "source": [
    "from pyspark.sql.types import Row\n",
    "from datetime import datetime"
   ]
  },
  {
   "cell_type": "code",
   "execution_count": 5,
   "metadata": {},
   "outputs": [],
   "source": [
    "record = sc.parallelize([Row(id=1,\n",
    "                             name=\"Jill\",\n",
    "                             active=True,\n",
    "                             clubs=['chees','hockey'],\n",
    "                             subjects={\"math\":80,\"english\":56},\n",
    "                             enrolled=datetime(2014,8,1,14,1,5)),\n",
    "                         Row(id=2,\n",
    "                             name=\"George\",\n",
    "                             active=False,\n",
    "                             clubs=['chees','soccor'],\n",
    "                             subjects={\"math\":60,\"english\":96},\n",
    "                             enrolled=datetime(2015,3,21,8,2,5))\n",
    "                        ])"
   ]
  },
  {
   "cell_type": "code",
   "execution_count": 6,
   "metadata": {},
   "outputs": [
    {
     "name": "stdout",
     "output_type": "stream",
     "text": [
      "+------+---------------+-------------------+---+------+--------------------+\n",
      "|active|          clubs|           enrolled| id|  name|            subjects|\n",
      "+------+---------------+-------------------+---+------+--------------------+\n",
      "|  true|[chees, hockey]|2014-08-01 14:01:05|  1|  Jill|[english -> 56, m...|\n",
      "| false|[chees, soccor]|2015-03-21 08:02:05|  2|George|[english -> 96, m...|\n",
      "+------+---------------+-------------------+---+------+--------------------+\n",
      "\n"
     ]
    }
   ],
   "source": [
    "record_df=record.toDF()\n",
    "record_df.show()"
   ]
  },
  {
   "cell_type": "code",
   "execution_count": 7,
   "metadata": {},
   "outputs": [],
   "source": [
    "record_df.createOrReplaceTempView(\"records\")"
   ]
  },
  {
   "cell_type": "code",
   "execution_count": 8,
   "metadata": {},
   "outputs": [
    {
     "name": "stdout",
     "output_type": "stream",
     "text": [
      "+------+---------------+-------------------+---+------+--------------------+\n",
      "|active|          clubs|           enrolled| id|  name|            subjects|\n",
      "+------+---------------+-------------------+---+------+--------------------+\n",
      "|  true|[chees, hockey]|2014-08-01 14:01:05|  1|  Jill|[english -> 56, m...|\n",
      "| false|[chees, soccor]|2015-03-21 08:02:05|  2|George|[english -> 96, m...|\n",
      "+------+---------------+-------------------+---+------+--------------------+\n",
      "\n"
     ]
    }
   ],
   "source": [
    "all_records_df=sqlContext.sql(\"SELECT * FROM records\")\n",
    "all_records_df.show()"
   ]
  },
  {
   "cell_type": "code",
   "execution_count": 9,
   "metadata": {},
   "outputs": [
    {
     "name": "stdout",
     "output_type": "stream",
     "text": [
      "+---+--------+-----------------+\n",
      "| id|clubs[1]|subjects[english]|\n",
      "+---+--------+-----------------+\n",
      "|  1|  hockey|               56|\n",
      "|  2|  soccor|               96|\n",
      "+---+--------+-----------------+\n",
      "\n"
     ]
    }
   ],
   "source": [
    "sqlContext.sql(\"select id,clubs[1],subjects['english'] from records\").show()"
   ]
  },
  {
   "cell_type": "code",
   "execution_count": 10,
   "metadata": {},
   "outputs": [
    {
     "name": "stdout",
     "output_type": "stream",
     "text": [
      "+---+------------+\n",
      "| id|(NOT active)|\n",
      "+---+------------+\n",
      "|  1|       false|\n",
      "|  2|        true|\n",
      "+---+------------+\n",
      "\n"
     ]
    }
   ],
   "source": [
    "sqlContext.sql(\"SELECT id, NOT active from records\").show()"
   ]
  },
  {
   "cell_type": "code",
   "execution_count": 11,
   "metadata": {},
   "outputs": [
    {
     "name": "stdout",
     "output_type": "stream",
     "text": [
      "+------+---------------+-------------------+---+----+--------------------+\n",
      "|active|          clubs|           enrolled| id|name|            subjects|\n",
      "+------+---------------+-------------------+---+----+--------------------+\n",
      "|  true|[chees, hockey]|2014-08-01 14:01:05|  1|Jill|[english -> 56, m...|\n",
      "+------+---------------+-------------------+---+----+--------------------+\n",
      "\n"
     ]
    }
   ],
   "source": [
    "sqlContext.sql(\"SELECT *  from records where active\").show()"
   ]
  },
  {
   "cell_type": "code",
   "execution_count": 12,
   "metadata": {},
   "outputs": [
    {
     "name": "stdout",
     "output_type": "stream",
     "text": [
      "+------+---------------+-------------------+---+------+--------------------+\n",
      "|active|          clubs|           enrolled| id|  name|            subjects|\n",
      "+------+---------------+-------------------+---+------+--------------------+\n",
      "| false|[chees, soccor]|2015-03-21 08:02:05|  2|George|[english -> 96, m...|\n",
      "+------+---------------+-------------------+---+------+--------------------+\n",
      "\n"
     ]
    }
   ],
   "source": [
    "sqlContext.sql('SELECT *  from records where subjects[\"english\"] > 90 ').show()"
   ]
  },
  {
   "cell_type": "code",
   "execution_count": 13,
   "metadata": {},
   "outputs": [],
   "source": [
    "record_df.createGlobalTempView(\"global_records\")"
   ]
  },
  {
   "cell_type": "code",
   "execution_count": 16,
   "metadata": {},
   "outputs": [
    {
     "name": "stdout",
     "output_type": "stream",
     "text": [
      "+------+---------------+-------------------+---+------+--------------------+\n",
      "|active|          clubs|           enrolled| id|  name|            subjects|\n",
      "+------+---------------+-------------------+---+------+--------------------+\n",
      "|  true|[chees, hockey]|2014-08-01 14:01:05|  1|  Jill|[english -> 56, m...|\n",
      "| false|[chees, soccor]|2015-03-21 08:02:05|  2|George|[english -> 96, m...|\n",
      "+------+---------------+-------------------+---+------+--------------------+\n",
      "\n"
     ]
    }
   ],
   "source": [
    "sqlContext.sql(\"SELECT * FROM global_temp.global_records\").show()"
   ]
  },
  {
   "cell_type": "code",
   "execution_count": 3,
   "metadata": {},
   "outputs": [],
   "source": [
    "airlinesPath=\"/home/demo/airlines.csv\"\n",
    "flightsPath=\"/home/demo/flights.csv\"\n",
    "airportsPath=\"/home/demo/airports.csv\""
   ]
  },
  {
   "cell_type": "code",
   "execution_count": 4,
   "metadata": {},
   "outputs": [],
   "source": [
    "airlines = spark.read\\\n",
    "                .format(\"csv\")\\\n",
    "                .option(\"header\",\"true\")\\\n",
    "                .load(airlinesPath)"
   ]
  },
  {
   "cell_type": "code",
   "execution_count": 5,
   "metadata": {},
   "outputs": [],
   "source": [
    "airlines.createOrReplaceTempView(\"airlines\")"
   ]
  },
  {
   "cell_type": "code",
   "execution_count": 6,
   "metadata": {},
   "outputs": [
    {
     "name": "stdout",
     "output_type": "stream",
     "text": [
      "+-----+--------------------+\n",
      "| Code|         Description|\n",
      "+-----+--------------------+\n",
      "|19031|Mackey Internatio...|\n",
      "|19032|Munz Northern Air...|\n",
      "|19033|Cochise Airlines ...|\n",
      "|19034|Golden Gate Airli...|\n",
      "|19035|  Aeromech Inc.: RZZ|\n",
      "|19036|Golden West Airli...|\n",
      "|19037|Puerto Rico Intl ...|\n",
      "|19038|Air America Inc.:...|\n",
      "|19039|Swift Aire Lines ...|\n",
      "|19040|American Central ...|\n",
      "|19041|Valdez Airlines: VEZ|\n",
      "|19042|Southeast Alaska ...|\n",
      "|19043|Altair Airlines I...|\n",
      "|19044|Chitina Air Servi...|\n",
      "|19045|Marco Island Airw...|\n",
      "|19046|Caribbean Air Ser...|\n",
      "|19047|Sundance Airlines...|\n",
      "|19048|Seair Alaska Airl...|\n",
      "|19049|Southeast Airline...|\n",
      "|19050|Alaska Aeronautic...|\n",
      "+-----+--------------------+\n",
      "only showing top 20 rows\n",
      "\n"
     ]
    }
   ],
   "source": [
    "sqlContext.sql(\"SELECT * FROM airlines\").show()"
   ]
  },
  {
   "cell_type": "code",
   "execution_count": 7,
   "metadata": {},
   "outputs": [],
   "source": [
    "flights = spark.read\\\n",
    "               .format(\"csv\")\\\n",
    "               .option(\"header\",\"true\")\\\n",
    "               .load(flightsPath)"
   ]
  },
  {
   "cell_type": "code",
   "execution_count": 8,
   "metadata": {},
   "outputs": [
    {
     "data": {
      "text/plain": [
       "['date',\n",
       " 'airlines',\n",
       " 'flight_number',\n",
       " 'origin',\n",
       " 'destination',\n",
       " 'departure',\n",
       " 'departure_delay',\n",
       " 'arrival',\n",
       " 'arrival_delay',\n",
       " 'air_time',\n",
       " 'distance']"
      ]
     },
     "execution_count": 8,
     "metadata": {},
     "output_type": "execute_result"
    }
   ],
   "source": [
    "flights.createOrReplaceTempView(\"flights\")\n",
    "flights.columns"
   ]
  },
  {
   "cell_type": "code",
   "execution_count": 9,
   "metadata": {},
   "outputs": [
    {
     "name": "stdout",
     "output_type": "stream",
     "text": [
      "+----------+--------+-------------+------+-----------+---------+---------------+-------+-------------+--------+--------+\n",
      "|      date|airlines|flight_number|origin|destination|departure|departure_delay|arrival|arrival_delay|air_time|distance|\n",
      "+----------+--------+-------------+------+-----------+---------+---------------+-------+-------------+--------+--------+\n",
      "|2014-04-01|   19805|            1|   JFK|        LAX|     0854|          -6.00|   1217|         2.00|  355.00| 2475.00|\n",
      "|2014-04-01|   19805|            2|   LAX|        JFK|     0944|          14.00|   1736|       -29.00|  269.00| 2475.00|\n",
      "|2014-04-01|   19805|            3|   JFK|        LAX|     1224|          -6.00|   1614|        39.00|  371.00| 2475.00|\n",
      "|2014-04-01|   19805|            4|   LAX|        JFK|     1240|          25.00|   2028|       -27.00|  264.00| 2475.00|\n",
      "|2014-04-01|   19805|            5|   DFW|        HNL|     1300|          -5.00|   1650|        15.00|  510.00| 3784.00|\n",
      "+----------+--------+-------------+------+-----------+---------+---------------+-------+-------------+--------+--------+\n",
      "only showing top 5 rows\n",
      "\n"
     ]
    }
   ],
   "source": [
    "flights.show(5)"
   ]
  },
  {
   "cell_type": "code",
   "execution_count": 10,
   "metadata": {},
   "outputs": [
    {
     "data": {
      "text/plain": [
       "(476881, 1579)"
      ]
     },
     "execution_count": 10,
     "metadata": {},
     "output_type": "execute_result"
    }
   ],
   "source": [
    "flights.count(),airlines.count()"
   ]
  },
  {
   "cell_type": "code",
   "execution_count": 11,
   "metadata": {},
   "outputs": [],
   "source": [
    "flights_count=spark.sql(\"SELECT COUNT(*) FROM flights\")\n",
    "airlines_count=spark.sql(\"SELECT COUNT(*) FROM airlines\")"
   ]
  },
  {
   "cell_type": "code",
   "execution_count": 12,
   "metadata": {},
   "outputs": [
    {
     "data": {
      "text/plain": [
       "(DataFrame[count(1): bigint], DataFrame[count(1): bigint])"
      ]
     },
     "execution_count": 12,
     "metadata": {},
     "output_type": "execute_result"
    }
   ],
   "source": [
    "flights_count,airlines_count"
   ]
  },
  {
   "cell_type": "code",
   "execution_count": 13,
   "metadata": {},
   "outputs": [
    {
     "data": {
      "text/plain": [
       "(476881, 1579)"
      ]
     },
     "execution_count": 13,
     "metadata": {},
     "output_type": "execute_result"
    }
   ],
   "source": [
    "flights_count.collect()[0][0],airlines_count.collect()[0][0]"
   ]
  },
  {
   "cell_type": "code",
   "execution_count": 14,
   "metadata": {},
   "outputs": [],
   "source": [
    "total_distance_df=spark.sql(\"SELECT distance FROM flights\")\\\n",
    "                       .agg({\"distance\":\"sum\"})\\\n",
    "                       .withColumnRenamed(\"sum(distance)\",\"total_distance\")"
   ]
  },
  {
   "cell_type": "code",
   "execution_count": 15,
   "metadata": {},
   "outputs": [
    {
     "name": "stdout",
     "output_type": "stream",
     "text": [
      "+--------------+\n",
      "|total_distance|\n",
      "+--------------+\n",
      "|  3.79052917E8|\n",
      "+--------------+\n",
      "\n"
     ]
    }
   ],
   "source": [
    "total_distance_df.show()"
   ]
  },
  {
   "cell_type": "code",
   "execution_count": 16,
   "metadata": {},
   "outputs": [],
   "source": [
    "all_delays_2012 = spark.sql( \"SELECT date , airlines , flight_number ,departure_delay FROM flights where departure_delay > 0 and year(date) =2012\")"
   ]
  },
  {
   "cell_type": "code",
   "execution_count": 17,
   "metadata": {},
   "outputs": [
    {
     "name": "stdout",
     "output_type": "stream",
     "text": [
      "+----+--------+-------------+---------------+\n",
      "|date|airlines|flight_number|departure_delay|\n",
      "+----+--------+-------------+---------------+\n",
      "+----+--------+-------------+---------------+\n",
      "\n"
     ]
    }
   ],
   "source": [
    "all_delays_2012.show()"
   ]
  },
  {
   "cell_type": "code",
   "execution_count": 18,
   "metadata": {},
   "outputs": [],
   "source": [
    "all_delays_2014 = spark.sql( \"SELECT date , airlines , flight_number ,departure_delay FROM flights where departure_delay > 0 and year(date) =2014\")"
   ]
  },
  {
   "cell_type": "code",
   "execution_count": 19,
   "metadata": {},
   "outputs": [
    {
     "name": "stdout",
     "output_type": "stream",
     "text": [
      "+----------+--------+-------------+---------------+\n",
      "|      date|airlines|flight_number|departure_delay|\n",
      "+----------+--------+-------------+---------------+\n",
      "|2014-04-01|   19805|            2|          14.00|\n",
      "|2014-04-01|   19805|            4|          25.00|\n",
      "|2014-04-01|   19805|            6|         126.00|\n",
      "|2014-04-01|   19805|            7|         125.00|\n",
      "|2014-04-01|   19805|            8|           4.00|\n",
      "+----------+--------+-------------+---------------+\n",
      "only showing top 5 rows\n",
      "\n"
     ]
    }
   ],
   "source": [
    "all_delays_2014.show(5)"
   ]
  },
  {
   "cell_type": "code",
   "execution_count": 20,
   "metadata": {},
   "outputs": [],
   "source": [
    "all_delays_2014.createOrReplaceTempView(\"all_delays\")"
   ]
  },
  {
   "cell_type": "code",
   "execution_count": 21,
   "metadata": {},
   "outputs": [
    {
     "name": "stdout",
     "output_type": "stream",
     "text": [
      "+----------+--------+-------------+---------------+\n",
      "|      date|airlines|flight_number|departure_delay|\n",
      "+----------+--------+-------------+---------------+\n",
      "|2014-04-18|   20366|         4928|          99.00|\n",
      "|2014-04-18|   20366|         5819|          99.00|\n",
      "|2014-04-17|   19393|          661|          99.00|\n",
      "|2014-04-18|   19977|          560|          99.00|\n",
      "|2014-04-18|   20409|         1205|          99.00|\n",
      "+----------+--------+-------------+---------------+\n",
      "only showing top 5 rows\n",
      "\n"
     ]
    }
   ],
   "source": [
    "all_delays_2014.orderBy(all_delays_2014.departure_delay.desc()).show(5)"
   ]
  },
  {
   "cell_type": "code",
   "execution_count": 22,
   "metadata": {},
   "outputs": [],
   "source": [
    "delay_count = spark.sql(\"SELECT COUNT(departure_delay) from all_delays\")"
   ]
  },
  {
   "cell_type": "code",
   "execution_count": 23,
   "metadata": {},
   "outputs": [
    {
     "name": "stdout",
     "output_type": "stream",
     "text": [
      "+----------------------+\n",
      "|count(departure_delay)|\n",
      "+----------------------+\n",
      "|                179015|\n",
      "+----------------------+\n",
      "\n"
     ]
    }
   ],
   "source": [
    "delay_count.show()"
   ]
  },
  {
   "cell_type": "code",
   "execution_count": 24,
   "metadata": {},
   "outputs": [
    {
     "data": {
      "text/plain": [
       "179015"
      ]
     },
     "execution_count": 24,
     "metadata": {},
     "output_type": "execute_result"
    }
   ],
   "source": [
    "delay_count.collect()[0][0]"
   ]
  },
  {
   "cell_type": "code",
   "execution_count": 25,
   "metadata": {},
   "outputs": [
    {
     "data": {
      "text/plain": [
       "37.53871510922012"
      ]
     },
     "execution_count": 25,
     "metadata": {},
     "output_type": "execute_result"
    }
   ],
   "source": [
    "delay_percent = (delay_count.collect()[0][0]/flights_count.collect()[0][0])*100\n",
    "delay_percent"
   ]
  },
  {
   "cell_type": "code",
   "execution_count": 26,
   "metadata": {},
   "outputs": [],
   "source": [
    "delay_per_airline = spark.sql(\" SELECT airlines, departure_delay FROM flights\")\\\n",
    "                         .groupBy(\"airlines\")\\\n",
    "                         .agg({\"departure_delay\":\"avg\"})\\\n",
    "                         .withColumnRenamed(\"avg(departure_delay)\",\"departure_delay\")"
   ]
  },
  {
   "cell_type": "code",
   "execution_count": 27,
   "metadata": {},
   "outputs": [
    {
     "name": "stdout",
     "output_type": "stream",
     "text": [
      "+--------+------------------+\n",
      "|airlines|   departure_delay|\n",
      "+--------+------------------+\n",
      "|   19393|13.429567657134724|\n",
      "|   20366|12.296210112379818|\n",
      "|   19977| 8.818392620527979|\n",
      "|   20436| 8.716275167785234|\n",
      "|   20409|  8.31110357194785|\n",
      "+--------+------------------+\n",
      "only showing top 5 rows\n",
      "\n"
     ]
    }
   ],
   "source": [
    "delay_per_airline.orderBy(delay_per_airline.departure_delay.desc()).show(5)"
   ]
  },
  {
   "cell_type": "code",
   "execution_count": 28,
   "metadata": {},
   "outputs": [],
   "source": [
    "delay_per_airline.createOrReplaceTempView(\"delay_per_airline\")"
   ]
  },
  {
   "cell_type": "code",
   "execution_count": 29,
   "metadata": {},
   "outputs": [],
   "source": [
    "delay_per_airline = spark.sql(\"SELECT * FROM delay_per_airline ORDER BY departure_delay DESC\")"
   ]
  },
  {
   "cell_type": "code",
   "execution_count": 30,
   "metadata": {},
   "outputs": [
    {
     "name": "stdout",
     "output_type": "stream",
     "text": [
      "+--------+------------------+\n",
      "|airlines|   departure_delay|\n",
      "+--------+------------------+\n",
      "|   19393|13.429567657134724|\n",
      "|   20366|12.296210112379818|\n",
      "|   19977| 8.818392620527979|\n",
      "|   20436| 8.716275167785234|\n",
      "|   20409|  8.31110357194785|\n",
      "+--------+------------------+\n",
      "only showing top 5 rows\n",
      "\n"
     ]
    }
   ],
   "source": [
    "delay_per_airline.show(5)"
   ]
  },
  {
   "cell_type": "code",
   "execution_count": 31,
   "metadata": {},
   "outputs": [],
   "source": [
    "delay_per_airline = spark.sql ( \"SELECT * FROM delay_per_airline \"+\n",
    "                               \"JOIN airlines ON delay_per_airline.airlines = airlines.code \"+\n",
    "                               \"ORDER BY departure_delay DESC\")"
   ]
  },
  {
   "cell_type": "code",
   "execution_count": 32,
   "metadata": {},
   "outputs": [
    {
     "name": "stdout",
     "output_type": "stream",
     "text": [
      "+--------+------------------+-----+--------------------+\n",
      "|airlines|   departure_delay| Code|         Description|\n",
      "+--------+------------------+-----+--------------------+\n",
      "|   19393|13.429567657134724|19393|Southwest Airline...|\n",
      "|   20366|12.296210112379818|20366|ExpressJet Airlin...|\n",
      "|   19977| 8.818392620527979|19977|United Air Lines ...|\n",
      "|   20436| 8.716275167785234|20436|Frontier Airlines...|\n",
      "|   20409|  8.31110357194785|20409| JetBlue Airways: B6|\n",
      "+--------+------------------+-----+--------------------+\n",
      "only showing top 5 rows\n",
      "\n"
     ]
    }
   ],
   "source": [
    "delay_per_airline.show(5)"
   ]
  },
  {
   "cell_type": "code",
   "execution_count": 33,
   "metadata": {},
   "outputs": [],
   "source": [
    "products = spark.read\\\n",
    "                .format(\"csv\")\\\n",
    "                .option(\"header\",\"true\")\\\n",
    "                .load(\"/home/demo/products.csv\")"
   ]
  },
  {
   "cell_type": "code",
   "execution_count": 34,
   "metadata": {},
   "outputs": [
    {
     "name": "stdout",
     "output_type": "stream",
     "text": [
      "+----------+--------+-----+\n",
      "|   product|category|price|\n",
      "+----------+--------+-----+\n",
      "|Samsung TX|  Tablet|  999|\n",
      "|Samsung JX|  Mobile|  799|\n",
      "|Redmi Note|  Mobile|  399|\n",
      "|        Mi|  Mobile|  299|\n",
      "|      iPad|  Tablet|  789|\n",
      "+----------+--------+-----+\n",
      "only showing top 5 rows\n",
      "\n"
     ]
    }
   ],
   "source": [
    "products.show(5)"
   ]
  },
  {
   "cell_type": "code",
   "execution_count": 36,
   "metadata": {},
   "outputs": [],
   "source": [
    "import sys\n",
    "from pyspark.sql.window import Window\n",
    "import pyspark.sql.functions as func"
   ]
  },
  {
   "cell_type": "code",
   "execution_count": 37,
   "metadata": {},
   "outputs": [],
   "source": [
    "windowSpecl = Window.partitionBy(products['category'])\\\n",
    "                    .orderBy(products['price'].desc())"
   ]
  },
  {
   "cell_type": "code",
   "execution_count": 40,
   "metadata": {},
   "outputs": [],
   "source": [
    "price_rank = (func.rank().over(windowSpecl))"
   ]
  },
  {
   "cell_type": "code",
   "execution_count": 41,
   "metadata": {},
   "outputs": [
    {
     "name": "stdout",
     "output_type": "stream",
     "text": [
      "+----------+--------+-----+----+\n",
      "|   product|category|price|rank|\n",
      "+----------+--------+-----+----+\n",
      "|    iPhone|  Mobile|  999|   1|\n",
      "|Samsung JX|  Mobile|  799|   2|\n",
      "|Redmi Note|  Mobile|  399|   3|\n",
      "|   OnePlus|  Mobile|  356|   4|\n",
      "|        Mi|  Mobile|  299|   5|\n",
      "|  Micromax|  Mobile|  249|   6|\n",
      "|Samsung TX|  Tablet|  999|   1|\n",
      "|      iPad|  Tablet|  789|   2|\n",
      "|    Lenovo|  Tablet|  499|   3|\n",
      "|        Xu|  Tablet|  267|   4|\n",
      "+----------+--------+-----+----+\n",
      "\n"
     ]
    }
   ],
   "source": [
    "product_rank = products.select ( \n",
    "    products['product'],\n",
    "    products['category'],\n",
    "    products['price']\n",
    ").withColumn('rank',func.rank().over(windowSpecl))\n",
    "product_rank.show()"
   ]
  },
  {
   "cell_type": "code",
   "execution_count": 50,
   "metadata": {},
   "outputs": [],
   "source": [
    "windowSpecl2 = Window.partitionBy(products['category'])\\\n",
    "                    .orderBy(products['price'].desc())\\\n",
    "                    .rowsBetween(-1,0)"
   ]
  },
  {
   "cell_type": "code",
   "execution_count": 51,
   "metadata": {},
   "outputs": [],
   "source": [
    "price_max = (func.max(products['price']).over(windowSpecl2))"
   ]
  },
  {
   "cell_type": "code",
   "execution_count": 52,
   "metadata": {},
   "outputs": [
    {
     "name": "stdout",
     "output_type": "stream",
     "text": [
      "+----------+--------+-----+---------+\n",
      "|   product|category|price|price_max|\n",
      "+----------+--------+-----+---------+\n",
      "|    iPhone|  Mobile|  999|      999|\n",
      "|Samsung JX|  Mobile|  799|      999|\n",
      "|Redmi Note|  Mobile|  399|      799|\n",
      "|   OnePlus|  Mobile|  356|      399|\n",
      "|        Mi|  Mobile|  299|      356|\n",
      "|  Micromax|  Mobile|  249|      299|\n",
      "|Samsung TX|  Tablet|  999|      999|\n",
      "|      iPad|  Tablet|  789|      999|\n",
      "|    Lenovo|  Tablet|  499|      789|\n",
      "|        Xu|  Tablet|  267|      499|\n",
      "+----------+--------+-----+---------+\n",
      "\n"
     ]
    }
   ],
   "source": [
    " products.select ( \n",
    "    products['product'],\n",
    "    products['category'],\n",
    "    products['price'],\n",
    "    price_max.alias(\"price_max\")).show()"
   ]
  },
  {
   "cell_type": "code",
   "execution_count": 47,
   "metadata": {},
   "outputs": [],
   "source": [
    "windowSpecl3 = Window.partitionBy(products['category'])\\\n",
    "                    .orderBy(products['price'].desc())\\\n",
    "                    .rangeBetween(-sys.maxsize,sys.maxsize)"
   ]
  },
  {
   "cell_type": "code",
   "execution_count": 49,
   "metadata": {},
   "outputs": [],
   "source": [
    "price_difference = (func.max(products['price']).over(windowSpecl3) - products['price'])"
   ]
  },
  {
   "cell_type": "code",
   "execution_count": 53,
   "metadata": {},
   "outputs": [
    {
     "name": "stdout",
     "output_type": "stream",
     "text": [
      "+----------+--------+-----+----------------+\n",
      "|   product|category|price|price_difference|\n",
      "+----------+--------+-----+----------------+\n",
      "|    iPhone|  Mobile|  999|             0.0|\n",
      "|Samsung JX|  Mobile|  799|           200.0|\n",
      "|Redmi Note|  Mobile|  399|           600.0|\n",
      "|   OnePlus|  Mobile|  356|           643.0|\n",
      "|        Mi|  Mobile|  299|           700.0|\n",
      "|  Micromax|  Mobile|  249|           750.0|\n",
      "|Samsung TX|  Tablet|  999|             0.0|\n",
      "|      iPad|  Tablet|  789|           210.0|\n",
      "|    Lenovo|  Tablet|  499|           500.0|\n",
      "|        Xu|  Tablet|  267|           732.0|\n",
      "+----------+--------+-----+----------------+\n",
      "\n"
     ]
    }
   ],
   "source": [
    "products.select ( \n",
    "    products['product'],\n",
    "    products['category'],\n",
    "    products['price'],\n",
    "    price_difference.alias(\"price_difference\")).show()"
   ]
  },
  {
   "cell_type": "code",
   "execution_count": null,
   "metadata": {},
   "outputs": [],
   "source": []
  }
 ],
 "metadata": {
  "kernelspec": {
   "display_name": "Python 3",
   "language": "python",
   "name": "python3"
  },
  "language_info": {
   "codemirror_mode": {
    "name": "ipython",
    "version": 3
   },
   "file_extension": ".py",
   "mimetype": "text/x-python",
   "name": "python",
   "nbconvert_exporter": "python",
   "pygments_lexer": "ipython3",
   "version": "3.7.3"
  }
 },
 "nbformat": 4,
 "nbformat_minor": 2
}
