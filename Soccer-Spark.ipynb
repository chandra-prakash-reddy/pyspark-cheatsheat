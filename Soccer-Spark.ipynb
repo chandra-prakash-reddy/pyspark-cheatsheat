{
 "cells": [
  {
   "cell_type": "code",
   "execution_count": 3,
   "metadata": {},
   "outputs": [],
   "source": [
    "from pyspark.sql import SparkSession"
   ]
  },
  {
   "cell_type": "code",
   "execution_count": 4,
   "metadata": {},
   "outputs": [],
   "source": [
    "spark = SparkSession.builder\\\n",
    "                    .appName(\"Analyzing soccer players\")\\\n",
    "                    .getOrCreate()"
   ]
  },
  {
   "cell_type": "code",
   "execution_count": 5,
   "metadata": {},
   "outputs": [],
   "source": [
    "players = spark.read\\\n",
    "              .format(\"csv\")\\\n",
    "              .option(\"header\",\"true\")\\\n",
    "              .load(\"/home/demo/player.csv\")"
   ]
  },
  {
   "cell_type": "code",
   "execution_count": 6,
   "metadata": {},
   "outputs": [
    {
     "name": "stdout",
     "output_type": "stream",
     "text": [
      "root\n",
      " |-- id: string (nullable = true)\n",
      " |-- player_api_id: string (nullable = true)\n",
      " |-- player_name: string (nullable = true)\n",
      " |-- player_fifa_api_id: string (nullable = true)\n",
      " |-- birthday: string (nullable = true)\n",
      " |-- height: string (nullable = true)\n",
      " |-- weight: string (nullable = true)\n",
      "\n"
     ]
    }
   ],
   "source": [
    "players.printSchema()"
   ]
  },
  {
   "cell_type": "code",
   "execution_count": 7,
   "metadata": {},
   "outputs": [
    {
     "name": "stdout",
     "output_type": "stream",
     "text": [
      "+---+-------------+------------------+------------------+-------------------+------+------+\n",
      "| id|player_api_id|       player_name|player_fifa_api_id|           birthday|height|weight|\n",
      "+---+-------------+------------------+------------------+-------------------+------+------+\n",
      "|  1|       505942|Aaron Appindangoye|            218353|1992-02-29 00:00:00|182.88|   187|\n",
      "|  2|       155782|   Aaron Cresswell|            189615|1989-12-15 00:00:00|170.18|   146|\n",
      "|  3|       162549|       Aaron Doran|            186170|1991-05-13 00:00:00|170.18|   163|\n",
      "|  4|        30572|     Aaron Galindo|            140161|1982-05-08 00:00:00|182.88|   198|\n",
      "|  5|        23780|      Aaron Hughes|             17725|1979-11-08 00:00:00|182.88|   154|\n",
      "|  6|        27316|        Aaron Hunt|            158138|1986-09-04 00:00:00|182.88|   161|\n",
      "|  7|       564793|        Aaron Kuhl|            221280|1996-01-30 00:00:00|172.72|   146|\n",
      "|  8|        30895|      Aaron Lennon|            152747|1987-04-16 00:00:00| 165.1|   139|\n",
      "|  9|       528212|      Aaron Lennox|            206592|1993-02-19 00:00:00| 190.5|   181|\n",
      "| 10|       101042|     Aaron Meijers|            188621|1987-10-28 00:00:00|175.26|   170|\n",
      "+---+-------------+------------------+------------------+-------------------+------+------+\n",
      "only showing top 10 rows\n",
      "\n"
     ]
    }
   ],
   "source": [
    "players.show(10)"
   ]
  },
  {
   "cell_type": "code",
   "execution_count": 51,
   "metadata": {},
   "outputs": [],
   "source": [
    "players_attributes=spark.read\\\n",
    "                        .format(\"csv\")\\\n",
    "                        .option(\"header\",\"true\")\\\n",
    "                         .load(\"/home/demo/player_attributes.csv\")"
   ]
  },
  {
   "cell_type": "code",
   "execution_count": 52,
   "metadata": {},
   "outputs": [
    {
     "name": "stdout",
     "output_type": "stream",
     "text": [
      "root\n",
      " |-- id: string (nullable = true)\n",
      " |-- player_fifa_api_id: string (nullable = true)\n",
      " |-- player_api_id: string (nullable = true)\n",
      " |-- date: string (nullable = true)\n",
      " |-- overall_rating: string (nullable = true)\n",
      " |-- potential: string (nullable = true)\n",
      " |-- preferred_foot: string (nullable = true)\n",
      " |-- attacking_work_rate: string (nullable = true)\n",
      " |-- defensive_work_rate: string (nullable = true)\n",
      " |-- crossing: string (nullable = true)\n",
      " |-- finishing: string (nullable = true)\n",
      " |-- heading_accuracy: string (nullable = true)\n",
      " |-- short_passing: string (nullable = true)\n",
      " |-- volleys: string (nullable = true)\n",
      " |-- dribbling: string (nullable = true)\n",
      " |-- curve: string (nullable = true)\n",
      " |-- free_kick_accuracy: string (nullable = true)\n",
      " |-- long_passing: string (nullable = true)\n",
      " |-- ball_control: string (nullable = true)\n",
      " |-- acceleration: string (nullable = true)\n",
      " |-- sprint_speed: string (nullable = true)\n",
      " |-- agility: string (nullable = true)\n",
      " |-- reactions: string (nullable = true)\n",
      " |-- balance: string (nullable = true)\n",
      " |-- shot_power: string (nullable = true)\n",
      " |-- jumping: string (nullable = true)\n",
      " |-- stamina: string (nullable = true)\n",
      " |-- strength: string (nullable = true)\n",
      " |-- long_shots: string (nullable = true)\n",
      " |-- aggression: string (nullable = true)\n",
      " |-- interceptions: string (nullable = true)\n",
      " |-- positioning: string (nullable = true)\n",
      " |-- vision: string (nullable = true)\n",
      " |-- penalties: string (nullable = true)\n",
      " |-- marking: string (nullable = true)\n",
      " |-- standing_tackle: string (nullable = true)\n",
      " |-- sliding_tackle: string (nullable = true)\n",
      " |-- gk_diving: string (nullable = true)\n",
      " |-- gk_handling: string (nullable = true)\n",
      " |-- gk_kicking: string (nullable = true)\n",
      " |-- gk_positioning: string (nullable = true)\n",
      " |-- gk_reflexes: string (nullable = true)\n",
      "\n"
     ]
    }
   ],
   "source": [
    "players_attributes.printSchema()"
   ]
  },
  {
   "cell_type": "code",
   "execution_count": 10,
   "metadata": {},
   "outputs": [
    {
     "data": {
      "text/plain": [
       "(11060, 183978)"
      ]
     },
     "execution_count": 10,
     "metadata": {},
     "output_type": "execute_result"
    }
   ],
   "source": [
    "players.count(),players_attributes.count()"
   ]
  },
  {
   "cell_type": "code",
   "execution_count": 11,
   "metadata": {},
   "outputs": [
    {
     "data": {
      "text/plain": [
       "11060"
      ]
     },
     "execution_count": 11,
     "metadata": {},
     "output_type": "execute_result"
    }
   ],
   "source": [
    "players_attributes.select(\"player_api_id\").distinct().count()"
   ]
  },
  {
   "cell_type": "code",
   "execution_count": 12,
   "metadata": {},
   "outputs": [
    {
     "data": {
      "text/plain": [
       "['id',\n",
       " 'player_api_id',\n",
       " 'player_name',\n",
       " 'player_fifa_api_id',\n",
       " 'birthday',\n",
       " 'height',\n",
       " 'weight']"
      ]
     },
     "execution_count": 12,
     "metadata": {},
     "output_type": "execute_result"
    }
   ],
   "source": [
    "players.columns"
   ]
  },
  {
   "cell_type": "code",
   "execution_count": 13,
   "metadata": {},
   "outputs": [
    {
     "data": {
      "text/plain": [
       "['player_api_id', 'player_name', 'birthday', 'height', 'weight']"
      ]
     },
     "execution_count": 13,
     "metadata": {},
     "output_type": "execute_result"
    }
   ],
   "source": [
    "players=players.drop('id','player_fifa_api_id')\n",
    "players.columns"
   ]
  },
  {
   "cell_type": "code",
   "execution_count": 14,
   "metadata": {},
   "outputs": [],
   "source": [
    "players=players.dropna()\n",
    "players_attributes=players_attributes.dropna()"
   ]
  },
  {
   "cell_type": "code",
   "execution_count": 15,
   "metadata": {},
   "outputs": [
    {
     "data": {
      "text/plain": [
       "(11060, 180354)"
      ]
     },
     "execution_count": 15,
     "metadata": {},
     "output_type": "execute_result"
    }
   ],
   "source": [
    "players.count(),players_attributes.count()"
   ]
  },
  {
   "cell_type": "code",
   "execution_count": 17,
   "metadata": {},
   "outputs": [],
   "source": [
    "from pyspark.sql.functions import udf"
   ]
  },
  {
   "cell_type": "code",
   "execution_count": 18,
   "metadata": {},
   "outputs": [
    {
     "name": "stdout",
     "output_type": "stream",
     "text": [
      "+-------------------+\n",
      "|               date|\n",
      "+-------------------+\n",
      "|2016-02-18 00:00:00|\n",
      "|2015-11-19 00:00:00|\n",
      "|2015-09-21 00:00:00|\n",
      "|2015-03-20 00:00:00|\n",
      "|2007-02-22 00:00:00|\n",
      "|2016-04-21 00:00:00|\n",
      "|2016-04-07 00:00:00|\n",
      "|2016-01-07 00:00:00|\n",
      "|2015-12-24 00:00:00|\n",
      "|2015-12-17 00:00:00|\n",
      "+-------------------+\n",
      "only showing top 10 rows\n",
      "\n"
     ]
    }
   ],
   "source": [
    "players_attributes.select(\"date\").show(10)"
   ]
  },
  {
   "cell_type": "code",
   "execution_count": 54,
   "metadata": {},
   "outputs": [],
   "source": [
    "year_extract_udf=udf(lambda date:date.split('-')[0])\n",
    "players_attributes=players_attributes.withColumn(\"year\",year_extract_udf(players_attributes.date))"
   ]
  },
  {
   "cell_type": "code",
   "execution_count": 55,
   "metadata": {},
   "outputs": [
    {
     "data": {
      "text/plain": [
       "['id',\n",
       " 'player_fifa_api_id',\n",
       " 'player_api_id',\n",
       " 'date',\n",
       " 'overall_rating',\n",
       " 'potential',\n",
       " 'preferred_foot',\n",
       " 'attacking_work_rate',\n",
       " 'defensive_work_rate',\n",
       " 'crossing',\n",
       " 'finishing',\n",
       " 'heading_accuracy',\n",
       " 'short_passing',\n",
       " 'volleys',\n",
       " 'dribbling',\n",
       " 'curve',\n",
       " 'free_kick_accuracy',\n",
       " 'long_passing',\n",
       " 'ball_control',\n",
       " 'acceleration',\n",
       " 'sprint_speed',\n",
       " 'agility',\n",
       " 'reactions',\n",
       " 'balance',\n",
       " 'shot_power',\n",
       " 'jumping',\n",
       " 'stamina',\n",
       " 'strength',\n",
       " 'long_shots',\n",
       " 'aggression',\n",
       " 'interceptions',\n",
       " 'positioning',\n",
       " 'vision',\n",
       " 'penalties',\n",
       " 'marking',\n",
       " 'standing_tackle',\n",
       " 'sliding_tackle',\n",
       " 'gk_diving',\n",
       " 'gk_handling',\n",
       " 'gk_kicking',\n",
       " 'gk_positioning',\n",
       " 'gk_reflexes',\n",
       " 'year']"
      ]
     },
     "execution_count": 55,
     "metadata": {},
     "output_type": "execute_result"
    }
   ],
   "source": [
    "players_attributes.columns"
   ]
  },
  {
   "cell_type": "code",
   "execution_count": 56,
   "metadata": {},
   "outputs": [],
   "source": [
    "players_attributes=players_attributes.drop('date')"
   ]
  },
  {
   "cell_type": "code",
   "execution_count": 57,
   "metadata": {},
   "outputs": [
    {
     "name": "stdout",
     "output_type": "stream",
     "text": [
      "+----+\n",
      "|year|\n",
      "+----+\n",
      "|2016|\n",
      "|2015|\n",
      "|2015|\n",
      "|2015|\n",
      "|2007|\n",
      "|2016|\n",
      "|2016|\n",
      "|2016|\n",
      "|2015|\n",
      "|2015|\n",
      "+----+\n",
      "only showing top 10 rows\n",
      "\n"
     ]
    }
   ],
   "source": [
    "players_attributes.select(\"year\").show(10)"
   ]
  },
  {
   "cell_type": "code",
   "execution_count": 58,
   "metadata": {},
   "outputs": [],
   "source": [
    "pa_2016=players_attributes.filter(players_attributes.year==2016)"
   ]
  },
  {
   "cell_type": "code",
   "execution_count": 59,
   "metadata": {},
   "outputs": [
    {
     "data": {
      "text/plain": [
       "14103"
      ]
     },
     "execution_count": 59,
     "metadata": {},
     "output_type": "execute_result"
    }
   ],
   "source": [
    "pa_2016.count()"
   ]
  },
  {
   "cell_type": "code",
   "execution_count": 25,
   "metadata": {},
   "outputs": [
    {
     "data": {
      "text/plain": [
       "5586"
      ]
     },
     "execution_count": 25,
     "metadata": {},
     "output_type": "execute_result"
    }
   ],
   "source": [
    "pa_2016.select(pa_2016.player_api_id).distinct().count()"
   ]
  },
  {
   "cell_type": "code",
   "execution_count": 26,
   "metadata": {},
   "outputs": [],
   "source": [
    "pa_striker_2016=pa_2016.groupBy('player_api_id').agg({\n",
    "    'finishing':'avg',\n",
    "    'shot_power':'avg',\n",
    "    'acceleration':'avg'\n",
    "})"
   ]
  },
  {
   "cell_type": "code",
   "execution_count": 27,
   "metadata": {},
   "outputs": [
    {
     "data": {
      "text/plain": [
       "5586"
      ]
     },
     "execution_count": 27,
     "metadata": {},
     "output_type": "execute_result"
    }
   ],
   "source": [
    "pa_striker_2016.count()"
   ]
  },
  {
   "cell_type": "code",
   "execution_count": 28,
   "metadata": {},
   "outputs": [
    {
     "name": "stdout",
     "output_type": "stream",
     "text": [
      "+-------------+-----------------+-----------------+---------------+\n",
      "|player_api_id|   avg(finishing)|avg(acceleration)|avg(shot_power)|\n",
      "+-------------+-----------------+-----------------+---------------+\n",
      "|       309726|75.44444444444444|74.11111111111111|           76.0|\n",
      "|        26112|             53.0|             51.0|           76.0|\n",
      "|        38433|            68.25|             74.0|           74.0|\n",
      "|       295060|             25.0|             62.0|           40.0|\n",
      "|       161396|             29.0|             72.0|           69.0|\n",
      "|        37774|             61.0|             64.0|           68.0|\n",
      "|        41157|             81.0|             87.0|           80.0|\n",
      "|        40740|             58.0|             73.5|           75.0|\n",
      "|        31432|             14.0|             59.0|           65.0|\n",
      "|       109653|             62.0|             65.0|           83.5|\n",
      "+-------------+-----------------+-----------------+---------------+\n",
      "only showing top 10 rows\n",
      "\n"
     ]
    }
   ],
   "source": [
    "pa_striker_2016.show(10)"
   ]
  },
  {
   "cell_type": "code",
   "execution_count": 29,
   "metadata": {},
   "outputs": [
    {
     "data": {
      "text/plain": [
       "[Row(player_api_id='309726', avg(finishing)=75.44444444444444, avg(acceleration)=74.11111111111111, avg(shot_power)=76.0),\n",
       " Row(player_api_id='26112', avg(finishing)=53.0, avg(acceleration)=51.0, avg(shot_power)=76.0),\n",
       " Row(player_api_id='38433', avg(finishing)=68.25, avg(acceleration)=74.0, avg(shot_power)=74.0),\n",
       " Row(player_api_id='295060', avg(finishing)=25.0, avg(acceleration)=62.0, avg(shot_power)=40.0),\n",
       " Row(player_api_id='161396', avg(finishing)=29.0, avg(acceleration)=72.0, avg(shot_power)=69.0),\n",
       " Row(player_api_id='37774', avg(finishing)=61.0, avg(acceleration)=64.0, avg(shot_power)=68.0),\n",
       " Row(player_api_id='41157', avg(finishing)=81.0, avg(acceleration)=87.0, avg(shot_power)=80.0),\n",
       " Row(player_api_id='40740', avg(finishing)=58.0, avg(acceleration)=73.5, avg(shot_power)=75.0),\n",
       " Row(player_api_id='31432', avg(finishing)=14.0, avg(acceleration)=59.0, avg(shot_power)=65.0),\n",
       " Row(player_api_id='109653', avg(finishing)=62.0, avg(acceleration)=65.0, avg(shot_power)=83.5),\n",
       " Row(player_api_id='282680', avg(finishing)=12.0, avg(acceleration)=33.0, avg(shot_power)=24.0),\n",
       " Row(player_api_id='210428', avg(finishing)=19.0, avg(acceleration)=69.0, avg(shot_power)=55.0),\n",
       " Row(player_api_id='190851', avg(finishing)=67.0, avg(acceleration)=74.0, avg(shot_power)=78.0),\n",
       " Row(player_api_id='419238', avg(finishing)=23.0, avg(acceleration)=57.333333333333336, avg(shot_power)=55.333333333333336),\n",
       " Row(player_api_id='664587', avg(finishing)=58.0, avg(acceleration)=74.0, avg(shot_power)=61.0),\n",
       " Row(player_api_id='239352', avg(finishing)=63.0, avg(acceleration)=83.0, avg(shot_power)=64.0),\n",
       " Row(player_api_id='190801', avg(finishing)=63.0, avg(acceleration)=63.75, avg(shot_power)=56.5),\n",
       " Row(player_api_id='196957', avg(finishing)=66.0, avg(acceleration)=76.0, avg(shot_power)=75.66666666666667),\n",
       " Row(player_api_id='173922', avg(finishing)=65.0, avg(acceleration)=78.0, avg(shot_power)=66.0),\n",
       " Row(player_api_id='121080', avg(finishing)=36.0, avg(acceleration)=72.0, avg(shot_power)=39.0),\n",
       " Row(player_api_id='310836', avg(finishing)=67.0, avg(acceleration)=75.0, avg(shot_power)=69.0),\n",
       " Row(player_api_id='362212', avg(finishing)=63.333333333333336, avg(acceleration)=76.55555555555556, avg(shot_power)=71.11111111111111),\n",
       " Row(player_api_id='627547', avg(finishing)=64.0, avg(acceleration)=79.0, avg(shot_power)=68.0),\n",
       " Row(player_api_id='70078', avg(finishing)=59.0, avg(acceleration)=70.0, avg(shot_power)=73.0),\n",
       " Row(player_api_id='67896', avg(finishing)=57.0, avg(acceleration)=67.0, avg(shot_power)=68.0),\n",
       " Row(player_api_id='26005', avg(finishing)=56.0, avg(acceleration)=72.0, avg(shot_power)=84.0),\n",
       " Row(player_api_id='107930', avg(finishing)=57.0, avg(acceleration)=64.0, avg(shot_power)=73.0),\n",
       " Row(player_api_id='11332', avg(finishing)=61.0, avg(acceleration)=41.0, avg(shot_power)=72.0),\n",
       " Row(player_api_id='38576', avg(finishing)=61.0, avg(acceleration)=59.0, avg(shot_power)=74.0),\n",
       " Row(player_api_id='438780', avg(finishing)=49.0, avg(acceleration)=78.0, avg(shot_power)=57.0),\n",
       " Row(player_api_id='3517', avg(finishing)=70.0, avg(acceleration)=76.0, avg(shot_power)=83.0),\n",
       " Row(player_api_id='33840', avg(finishing)=74.0, avg(acceleration)=54.0, avg(shot_power)=76.0),\n",
       " Row(player_api_id='17866', avg(finishing)=69.0, avg(acceleration)=30.0, avg(shot_power)=74.5),\n",
       " Row(player_api_id='562267', avg(finishing)=72.0, avg(acceleration)=78.0, avg(shot_power)=84.0),\n",
       " Row(player_api_id='560413', avg(finishing)=28.0, avg(acceleration)=67.0, avg(shot_power)=44.0),\n",
       " Row(player_api_id='579206', avg(finishing)=29.0, avg(acceleration)=60.0, avg(shot_power)=44.0),\n",
       " Row(player_api_id='182791', avg(finishing)=62.8, avg(acceleration)=82.2, avg(shot_power)=65.6),\n",
       " Row(player_api_id='26222', avg(finishing)=25.0, avg(acceleration)=71.0, avg(shot_power)=58.0),\n",
       " Row(player_api_id='79320', avg(finishing)=36.0, avg(acceleration)=69.0, avg(shot_power)=58.0),\n",
       " Row(player_api_id='282775', avg(finishing)=59.0, avg(acceleration)=77.0, avg(shot_power)=71.0),\n",
       " Row(player_api_id='163824', avg(finishing)=71.0, avg(acceleration)=68.0, avg(shot_power)=81.4),\n",
       " Row(player_api_id='26687', avg(finishing)=50.0, avg(acceleration)=68.0, avg(shot_power)=77.0),\n",
       " Row(player_api_id='210437', avg(finishing)=28.0, avg(acceleration)=80.0, avg(shot_power)=53.0),\n",
       " Row(player_api_id='94309', avg(finishing)=58.0, avg(acceleration)=51.4, avg(shot_power)=70.0),\n",
       " Row(player_api_id='277608', avg(finishing)=46.0, avg(acceleration)=79.0, avg(shot_power)=42.0),\n",
       " Row(player_api_id='179817', avg(finishing)=76.0, avg(acceleration)=66.2, avg(shot_power)=70.0),\n",
       " Row(player_api_id='191788', avg(finishing)=44.0, avg(acceleration)=68.0, avg(shot_power)=49.0),\n",
       " Row(player_api_id='30740', avg(finishing)=30.0, avg(acceleration)=34.0, avg(shot_power)=70.0),\n",
       " Row(player_api_id='531309', avg(finishing)=47.0, avg(acceleration)=65.0, avg(shot_power)=48.0),\n",
       " Row(player_api_id='102879', avg(finishing)=59.0, avg(acceleration)=51.0, avg(shot_power)=80.0),\n",
       " Row(player_api_id='290022', avg(finishing)=61.0, avg(acceleration)=65.0, avg(shot_power)=69.0),\n",
       " Row(player_api_id='43341', avg(finishing)=49.0, avg(acceleration)=78.0, avg(shot_power)=79.0),\n",
       " Row(player_api_id='364104', avg(finishing)=35.0, avg(acceleration)=74.0, avg(shot_power)=35.0),\n",
       " Row(player_api_id='183449', avg(finishing)=44.0, avg(acceleration)=77.0, avg(shot_power)=63.0),\n",
       " Row(player_api_id='262753', avg(finishing)=65.0, avg(acceleration)=76.0, avg(shot_power)=68.0),\n",
       " Row(player_api_id='388523', avg(finishing)=69.0, avg(acceleration)=75.33333333333333, avg(shot_power)=78.0),\n",
       " Row(player_api_id='93347', avg(finishing)=49.0, avg(acceleration)=54.0, avg(shot_power)=49.5),\n",
       " Row(player_api_id='304855', avg(finishing)=68.0, avg(acceleration)=63.0, avg(shot_power)=63.5),\n",
       " Row(player_api_id='23949', avg(finishing)=78.0, avg(acceleration)=75.0, avg(shot_power)=79.0),\n",
       " Row(player_api_id='41216', avg(finishing)=44.0, avg(acceleration)=66.0, avg(shot_power)=69.0),\n",
       " Row(player_api_id='206795', avg(finishing)=54.4, avg(acceleration)=66.0, avg(shot_power)=71.0),\n",
       " Row(player_api_id='281111', avg(finishing)=30.0, avg(acceleration)=64.0, avg(shot_power)=53.0),\n",
       " Row(player_api_id='56829', avg(finishing)=10.0, avg(acceleration)=60.0, avg(shot_power)=25.0),\n",
       " Row(player_api_id='210956', avg(finishing)=75.0, avg(acceleration)=86.0, avg(shot_power)=66.0),\n",
       " Row(player_api_id='186054', avg(finishing)=11.0, avg(acceleration)=49.0, avg(shot_power)=36.0),\n",
       " Row(player_api_id='280653', avg(finishing)=65.0, avg(acceleration)=86.0, avg(shot_power)=77.0),\n",
       " Row(player_api_id='32964', avg(finishing)=19.0, avg(acceleration)=32.0, avg(shot_power)=55.0),\n",
       " Row(player_api_id='260470', avg(finishing)=65.0, avg(acceleration)=89.0, avg(shot_power)=72.0),\n",
       " Row(player_api_id='46887', avg(finishing)=46.0, avg(acceleration)=63.0, avg(shot_power)=59.0),\n",
       " Row(player_api_id='415500', avg(finishing)=45.0, avg(acceleration)=67.0, avg(shot_power)=52.0),\n",
       " Row(player_api_id='109615', avg(finishing)=28.0, avg(acceleration)=74.0, avg(shot_power)=63.0),\n",
       " Row(player_api_id='23054', avg(finishing)=55.0, avg(acceleration)=53.0, avg(shot_power)=55.0),\n",
       " Row(player_api_id='33098', avg(finishing)=68.0, avg(acceleration)=50.0, avg(shot_power)=70.0),\n",
       " Row(player_api_id='200962', avg(finishing)=40.0, avg(acceleration)=50.0, avg(shot_power)=57.0),\n",
       " Row(player_api_id='181425', avg(finishing)=67.0, avg(acceleration)=76.0, avg(shot_power)=77.0),\n",
       " Row(player_api_id='206793', avg(finishing)=60.0, avg(acceleration)=84.25, avg(shot_power)=74.625),\n",
       " Row(player_api_id='40094', avg(finishing)=13.0, avg(acceleration)=40.0, avg(shot_power)=21.0),\n",
       " Row(player_api_id='69653', avg(finishing)=66.0, avg(acceleration)=63.0, avg(shot_power)=70.0),\n",
       " Row(player_api_id='164479', avg(finishing)=69.0, avg(acceleration)=90.0, avg(shot_power)=79.0),\n",
       " Row(player_api_id='31290', avg(finishing)=49.0, avg(acceleration)=71.0, avg(shot_power)=67.0),\n",
       " Row(player_api_id='184091', avg(finishing)=48.0, avg(acceleration)=79.0, avg(shot_power)=59.0),\n",
       " Row(player_api_id='93450', avg(finishing)=13.0, avg(acceleration)=31.0, avg(shot_power)=22.0),\n",
       " Row(player_api_id='466482', avg(finishing)=61.0, avg(acceleration)=86.0, avg(shot_power)=69.0),\n",
       " Row(player_api_id='215419', avg(finishing)=63.0, avg(acceleration)=88.0, avg(shot_power)=75.0),\n",
       " Row(player_api_id='527103', avg(finishing)=76.0, avg(acceleration)=84.0, avg(shot_power)=75.0),\n",
       " Row(player_api_id='93471', avg(finishing)=64.0, avg(acceleration)=68.5, avg(shot_power)=72.5),\n",
       " Row(player_api_id='56846', avg(finishing)=44.0, avg(acceleration)=70.0, avg(shot_power)=61.0),\n",
       " Row(player_api_id='164395', avg(finishing)=40.5, avg(acceleration)=65.0, avg(shot_power)=75.0),\n",
       " Row(player_api_id='62358', avg(finishing)=29.0, avg(acceleration)=35.0, avg(shot_power)=59.0),\n",
       " Row(player_api_id='29580', avg(finishing)=43.0, avg(acceleration)=66.0, avg(shot_power)=69.0),\n",
       " Row(player_api_id='474680', avg(finishing)=65.0, avg(acceleration)=80.0, avg(shot_power)=75.0),\n",
       " Row(player_api_id='277384', avg(finishing)=22.0, avg(acceleration)=49.0, avg(shot_power)=62.0),\n",
       " Row(player_api_id='281747', avg(finishing)=58.0, avg(acceleration)=76.0, avg(shot_power)=63.0),\n",
       " Row(player_api_id='470546', avg(finishing)=35.0, avg(acceleration)=63.0, avg(shot_power)=74.0),\n",
       " Row(player_api_id='276261', avg(finishing)=31.0, avg(acceleration)=61.0, avg(shot_power)=71.0),\n",
       " Row(player_api_id='132814', avg(finishing)=9.0, avg(acceleration)=43.0, avg(shot_power)=22.0),\n",
       " Row(player_api_id='278831', avg(finishing)=33.0, avg(acceleration)=69.0, avg(shot_power)=50.0),\n",
       " Row(player_api_id='78901', avg(finishing)=69.0, avg(acceleration)=84.0, avg(shot_power)=77.0),\n",
       " Row(player_api_id='240837', avg(finishing)=67.0, avg(acceleration)=82.0, avg(shot_power)=74.0),\n",
       " Row(player_api_id='361320', avg(finishing)=54.0, avg(acceleration)=78.0, avg(shot_power)=71.0),\n",
       " Row(player_api_id='604982', avg(finishing)=56.0, avg(acceleration)=69.0, avg(shot_power)=51.0),\n",
       " Row(player_api_id='356960', avg(finishing)=63.0, avg(acceleration)=83.0, avg(shot_power)=74.0),\n",
       " Row(player_api_id='36373', avg(finishing)=19.0, avg(acceleration)=42.0, avg(shot_power)=22.0),\n",
       " Row(player_api_id='243493', avg(finishing)=29.0, avg(acceleration)=64.0, avg(shot_power)=58.0),\n",
       " Row(player_api_id='32657', avg(finishing)=12.0, avg(acceleration)=60.0, avg(shot_power)=29.0),\n",
       " Row(player_api_id='213500', avg(finishing)=52.0, avg(acceleration)=57.0, avg(shot_power)=61.0),\n",
       " Row(player_api_id='27155', avg(finishing)=72.0, avg(acceleration)=81.0, avg(shot_power)=74.0),\n",
       " Row(player_api_id='106013', avg(finishing)=62.0, avg(acceleration)=72.0, avg(shot_power)=72.0),\n",
       " Row(player_api_id='317932', avg(finishing)=27.0, avg(acceleration)=65.0, avg(shot_power)=42.0),\n",
       " Row(player_api_id='118298', avg(finishing)=65.0, avg(acceleration)=81.0, avg(shot_power)=67.0),\n",
       " Row(player_api_id='46392', avg(finishing)=57.0, avg(acceleration)=73.0, avg(shot_power)=83.0),\n",
       " Row(player_api_id='18925', avg(finishing)=69.0, avg(acceleration)=81.0, avg(shot_power)=76.0),\n",
       " Row(player_api_id='605654', avg(finishing)=65.75, avg(acceleration)=52.5, avg(shot_power)=66.5),\n",
       " Row(player_api_id='601304', avg(finishing)=56.0, avg(acceleration)=73.0, avg(shot_power)=73.0),\n",
       " Row(player_api_id='35523', avg(finishing)=77.0, avg(acceleration)=55.0, avg(shot_power)=74.0),\n",
       " Row(player_api_id='23947', avg(finishing)=25.0, avg(acceleration)=67.0, avg(shot_power)=69.0),\n",
       " Row(player_api_id='232299', avg(finishing)=54.0, avg(acceleration)=58.0, avg(shot_power)=71.0),\n",
       " Row(player_api_id='33959', avg(finishing)=24.0, avg(acceleration)=32.0, avg(shot_power)=60.0),\n",
       " Row(player_api_id='477595', avg(finishing)=29.0, avg(acceleration)=55.0, avg(shot_power)=50.0),\n",
       " Row(player_api_id='134285', avg(finishing)=38.0, avg(acceleration)=72.0, avg(shot_power)=65.0),\n",
       " Row(player_api_id='142186', avg(finishing)=46.0, avg(acceleration)=68.0, avg(shot_power)=55.0),\n",
       " Row(player_api_id='69541', avg(finishing)=73.6, avg(acceleration)=85.0, avg(shot_power)=79.0),\n",
       " Row(player_api_id='159833', avg(finishing)=51.0, avg(acceleration)=85.0, avg(shot_power)=86.0),\n",
       " Row(player_api_id='535603', avg(finishing)=59.5, avg(acceleration)=86.0, avg(shot_power)=55.0),\n",
       " Row(player_api_id='22831', avg(finishing)=55.0, avg(acceleration)=72.0, avg(shot_power)=64.0),\n",
       " Row(player_api_id='43375', avg(finishing)=64.0, avg(acceleration)=65.0, avg(shot_power)=81.0),\n",
       " Row(player_api_id='259507', avg(finishing)=75.33333333333333, avg(acceleration)=66.0, avg(shot_power)=78.0),\n",
       " Row(player_api_id='181197', avg(finishing)=69.14285714285714, avg(acceleration)=84.57142857142857, avg(shot_power)=76.0),\n",
       " Row(player_api_id='110107', avg(finishing)=64.0, avg(acceleration)=60.0, avg(shot_power)=67.0),\n",
       " Row(player_api_id='36610', avg(finishing)=26.0, avg(acceleration)=53.0, avg(shot_power)=72.0),\n",
       " Row(player_api_id='173965', avg(finishing)=36.0, avg(acceleration)=58.0, avg(shot_power)=72.0),\n",
       " Row(player_api_id='280496', avg(finishing)=62.333333333333336, avg(acceleration)=52.0, avg(shot_power)=71.0),\n",
       " Row(player_api_id='244035', avg(finishing)=60.0, avg(acceleration)=81.0, avg(shot_power)=69.0),\n",
       " Row(player_api_id='305214', avg(finishing)=72.0, avg(acceleration)=67.0, avg(shot_power)=63.0),\n",
       " Row(player_api_id='38341', avg(finishing)=13.0, avg(acceleration)=45.0, avg(shot_power)=38.0),\n",
       " Row(player_api_id='324910', avg(finishing)=48.0, avg(acceleration)=85.0, avg(shot_power)=59.0),\n",
       " Row(player_api_id='39470', avg(finishing)=21.0, avg(acceleration)=58.0, avg(shot_power)=58.0),\n",
       " Row(player_api_id='38842', avg(finishing)=43.0, avg(acceleration)=76.0, avg(shot_power)=80.0),\n",
       " Row(player_api_id='25015', avg(finishing)=61.0, avg(acceleration)=74.0, avg(shot_power)=82.0),\n",
       " Row(player_api_id='252283', avg(finishing)=73.0, avg(acceleration)=69.0, avg(shot_power)=72.0),\n",
       " Row(player_api_id='620128', avg(finishing)=33.0, avg(acceleration)=67.0, avg(shot_power)=56.0),\n",
       " Row(player_api_id='743720', avg(finishing)=32.0, avg(acceleration)=62.0, avg(shot_power)=50.0),\n",
       " Row(player_api_id='213653', avg(finishing)=80.0, avg(acceleration)=68.0, avg(shot_power)=83.0),\n",
       " Row(player_api_id='23728', avg(finishing)=63.0, avg(acceleration)=52.0, avg(shot_power)=60.0),\n",
       " Row(player_api_id='266105', avg(finishing)=53.0, avg(acceleration)=83.0, avg(shot_power)=66.0),\n",
       " Row(player_api_id='50449', avg(finishing)=54.0, avg(acceleration)=67.5, avg(shot_power)=74.0),\n",
       " Row(player_api_id='177874', avg(finishing)=46.0, avg(acceleration)=77.0, avg(shot_power)=72.0),\n",
       " Row(player_api_id='187017', avg(finishing)=54.0, avg(acceleration)=77.0, avg(shot_power)=80.0),\n",
       " Row(player_api_id='129326', avg(finishing)=72.5, avg(acceleration)=77.0, avg(shot_power)=76.0),\n",
       " Row(player_api_id='246438', avg(finishing)=81.0, avg(acceleration)=70.0, avg(shot_power)=74.0),\n",
       " Row(player_api_id='39793', avg(finishing)=73.0, avg(acceleration)=50.333333333333336, avg(shot_power)=78.0),\n",
       " Row(player_api_id='69601', avg(finishing)=31.0, avg(acceleration)=65.0, avg(shot_power)=58.0),\n",
       " Row(player_api_id='282284', avg(finishing)=63.0, avg(acceleration)=80.0, avg(shot_power)=64.0),\n",
       " Row(player_api_id='154246', avg(finishing)=53.75, avg(acceleration)=87.0, avg(shot_power)=78.25),\n",
       " Row(player_api_id='674492', avg(finishing)=25.0, avg(acceleration)=78.0, avg(shot_power)=27.0),\n",
       " Row(player_api_id='12386', avg(finishing)=71.4, avg(acceleration)=78.6, avg(shot_power)=70.0),\n",
       " Row(player_api_id='116874', avg(finishing)=62.0, avg(acceleration)=76.0, avg(shot_power)=61.0),\n",
       " Row(player_api_id='150480', avg(finishing)=57.0, avg(acceleration)=85.0, avg(shot_power)=73.0),\n",
       " Row(player_api_id='115519', avg(finishing)=49.0, avg(acceleration)=75.0, avg(shot_power)=59.0),\n",
       " Row(player_api_id='199291', avg(finishing)=67.75, avg(acceleration)=73.0, avg(shot_power)=75.25),\n",
       " Row(player_api_id='40735', avg(finishing)=32.0, avg(acceleration)=49.0, avg(shot_power)=70.0),\n",
       " Row(player_api_id='35575', avg(finishing)=78.0, avg(acceleration)=68.0, avg(shot_power)=78.0),\n",
       " Row(player_api_id='458660', avg(finishing)=13.0, avg(acceleration)=53.0, avg(shot_power)=29.0),\n",
       " Row(player_api_id='94550', avg(finishing)=72.0, avg(acceleration)=79.0, avg(shot_power)=85.0),\n",
       " Row(player_api_id='487334', avg(finishing)=12.0, avg(acceleration)=40.0, avg(shot_power)=16.0),\n",
       " Row(player_api_id='33706', avg(finishing)=45.0, avg(acceleration)=68.0, avg(shot_power)=68.0),\n",
       " Row(player_api_id='357302', avg(finishing)=29.0, avg(acceleration)=62.0, avg(shot_power)=44.0),\n",
       " Row(player_api_id='30890', avg(finishing)=32.0, avg(acceleration)=32.0, avg(shot_power)=60.0),\n",
       " Row(player_api_id='656698', avg(finishing)=21.0, avg(acceleration)=62.0, avg(shot_power)=42.0),\n",
       " Row(player_api_id='364779', avg(finishing)=23.0, avg(acceleration)=53.0, avg(shot_power)=47.0),\n",
       " Row(player_api_id='478112', avg(finishing)=20.0, avg(acceleration)=52.333333333333336, avg(shot_power)=44.0),\n",
       " Row(player_api_id='174325', avg(finishing)=23.0, avg(acceleration)=53.0, avg(shot_power)=46.0),\n",
       " Row(player_api_id='278848', avg(finishing)=63.0, avg(acceleration)=76.0, avg(shot_power)=61.0),\n",
       " Row(player_api_id='35502', avg(finishing)=29.0, avg(acceleration)=64.0, avg(shot_power)=59.0),\n",
       " Row(player_api_id='488445', avg(finishing)=72.0, avg(acceleration)=72.0, avg(shot_power)=52.0),\n",
       " Row(player_api_id='590494', avg(finishing)=66.0, avg(acceleration)=68.0, avg(shot_power)=62.0),\n",
       " Row(player_api_id='352003', avg(finishing)=12.0, avg(acceleration)=45.0, avg(shot_power)=46.0),\n",
       " Row(player_api_id='167094', avg(finishing)=41.0, avg(acceleration)=74.0, avg(shot_power)=64.0),\n",
       " Row(player_api_id='395154', avg(finishing)=62.0, avg(acceleration)=83.0, avg(shot_power)=61.0),\n",
       " Row(player_api_id='75310', avg(finishing)=82.0, avg(acceleration)=67.0, avg(shot_power)=84.0),\n",
       " Row(player_api_id='32088', avg(finishing)=30.0, avg(acceleration)=51.0, avg(shot_power)=25.0),\n",
       " Row(player_api_id='512730', avg(finishing)=61.0, avg(acceleration)=67.0, avg(shot_power)=72.0),\n",
       " Row(player_api_id='562801', avg(finishing)=35.0, avg(acceleration)=72.0, avg(shot_power)=70.0),\n",
       " Row(player_api_id='361778', avg(finishing)=65.0, avg(acceleration)=75.0, avg(shot_power)=69.0),\n",
       " Row(player_api_id='111885', avg(finishing)=48.0, avg(acceleration)=71.0, avg(shot_power)=64.0),\n",
       " Row(player_api_id='33605', avg(finishing)=28.0, avg(acceleration)=68.0, avg(shot_power)=47.0),\n",
       " Row(player_api_id='465614', avg(finishing)=30.0, avg(acceleration)=80.0, avg(shot_power)=37.0),\n",
       " Row(player_api_id='178818', avg(finishing)=66.25, avg(acceleration)=77.25, avg(shot_power)=77.0),\n",
       " Row(player_api_id='46808', avg(finishing)=78.0, avg(acceleration)=72.0, avg(shot_power)=75.0),\n",
       " Row(player_api_id='491167', avg(finishing)=42.0, avg(acceleration)=57.0, avg(shot_power)=54.0),\n",
       " Row(player_api_id='115143', avg(finishing)=57.0, avg(acceleration)=51.333333333333336, avg(shot_power)=58.0),\n",
       " Row(player_api_id='522579', avg(finishing)=76.0, avg(acceleration)=82.0, avg(shot_power)=64.0),\n",
       " Row(player_api_id='26593', avg(finishing)=44.0, avg(acceleration)=66.0, avg(shot_power)=44.0),\n",
       " Row(player_api_id='325916', avg(finishing)=87.0, avg(acceleration)=89.83333333333333, avg(shot_power)=77.0),\n",
       " Row(player_api_id='22543', avg(finishing)=83.0, avg(acceleration)=75.0, avg(shot_power)=79.0),\n",
       " Row(player_api_id='39379', avg(finishing)=65.0, avg(acceleration)=85.0, avg(shot_power)=73.0),\n",
       " Row(player_api_id='204212', avg(finishing)=70.0, avg(acceleration)=88.0, avg(shot_power)=83.0),\n",
       " Row(player_api_id='30271', avg(finishing)=14.0, avg(acceleration)=45.5, avg(shot_power)=19.0),\n",
       " Row(player_api_id='33045', avg(finishing)=34.0, avg(acceleration)=54.0, avg(shot_power)=56.0),\n",
       " Row(player_api_id='562694', avg(finishing)=73.0, avg(acceleration)=80.0, avg(shot_power)=72.0),\n",
       " Row(player_api_id='213805', avg(finishing)=79.0, avg(acceleration)=79.0, avg(shot_power)=70.0),\n",
       " Row(player_api_id='715642', avg(finishing)=28.0, avg(acceleration)=69.0, avg(shot_power)=26.0),\n",
       " Row(player_api_id='264842', avg(finishing)=76.0, avg(acceleration)=86.0, avg(shot_power)=82.0),\n",
       " Row(player_api_id='602306', avg(finishing)=65.0, avg(acceleration)=77.5, avg(shot_power)=66.0),\n",
       " Row(player_api_id='127224', avg(finishing)=56.0, avg(acceleration)=74.5, avg(shot_power)=73.0),\n",
       " Row(player_api_id='145561', avg(finishing)=34.0, avg(acceleration)=68.0, avg(shot_power)=58.0),\n",
       " Row(player_api_id='40495', avg(finishing)=44.0, avg(acceleration)=52.0, avg(shot_power)=66.0),\n",
       " Row(player_api_id='23371', avg(finishing)=31.0, avg(acceleration)=59.0, avg(shot_power)=52.0),\n",
       " Row(player_api_id='78314', avg(finishing)=47.0, avg(acceleration)=55.0, avg(shot_power)=79.0),\n",
       " Row(player_api_id='407747', avg(finishing)=15.0, avg(acceleration)=43.0, avg(shot_power)=20.0),\n",
       " Row(player_api_id='19249', avg(finishing)=23.0, avg(acceleration)=50.0, avg(shot_power)=72.0),\n",
       " Row(player_api_id='303227', avg(finishing)=23.0, avg(acceleration)=55.0, avg(shot_power)=43.0),\n",
       " Row(player_api_id='56678', avg(finishing)=42.0, avg(acceleration)=68.0, avg(shot_power)=67.0),\n",
       " Row(player_api_id='186815', avg(finishing)=60.0, avg(acceleration)=72.0, avg(shot_power)=59.0),\n",
       " Row(player_api_id='112107', avg(finishing)=20.0, avg(acceleration)=35.0, avg(shot_power)=39.0),\n",
       " Row(player_api_id='30657', avg(finishing)=12.0, avg(acceleration)=65.0, avg(shot_power)=28.0),\n",
       " Row(player_api_id='106294', avg(finishing)=16.0, avg(acceleration)=50.0, avg(shot_power)=49.0),\n",
       " Row(player_api_id='23930', avg(finishing)=20.0, avg(acceleration)=64.0, avg(shot_power)=58.0),\n",
       " Row(player_api_id='32345', avg(finishing)=45.0, avg(acceleration)=55.0, avg(shot_power)=71.0),\n",
       " Row(player_api_id='261313', avg(finishing)=71.0, avg(acceleration)=68.0, avg(shot_power)=77.0),\n",
       " Row(player_api_id='469763', avg(finishing)=67.66666666666667, avg(acceleration)=62.333333333333336, avg(shot_power)=74.0),\n",
       " Row(player_api_id='27697', avg(finishing)=11.0, avg(acceleration)=33.0, avg(shot_power)=19.0),\n",
       " Row(player_api_id='212866', avg(finishing)=51.0, avg(acceleration)=71.0, avg(shot_power)=55.0),\n",
       " Row(player_api_id='174690', avg(finishing)=28.0, avg(acceleration)=74.0, avg(shot_power)=55.0),\n",
       " Row(player_api_id='299370', avg(finishing)=22.0, avg(acceleration)=77.2, avg(shot_power)=47.0),\n",
       " Row(player_api_id='77860', avg(finishing)=40.0, avg(acceleration)=70.0, avg(shot_power)=54.0),\n",
       " Row(player_api_id='26782', avg(finishing)=45.0, avg(acceleration)=55.0, avg(shot_power)=73.0),\n",
       " Row(player_api_id='429870', avg(finishing)=39.0, avg(acceleration)=66.33333333333333, avg(shot_power)=59.0),\n",
       " Row(player_api_id='281079', avg(finishing)=35.0, avg(acceleration)=79.0, avg(shot_power)=37.0),\n",
       " Row(player_api_id='68839', avg(finishing)=62.0, avg(acceleration)=69.0, avg(shot_power)=67.0),\n",
       " Row(player_api_id='145536', avg(finishing)=20.0, avg(acceleration)=54.0, avg(shot_power)=52.0),\n",
       " Row(player_api_id='243482', avg(finishing)=12.0, avg(acceleration)=25.0, avg(shot_power)=25.0),\n",
       " Row(player_api_id='164334', avg(finishing)=79.0, avg(acceleration)=63.0, avg(shot_power)=78.0),\n",
       " Row(player_api_id='37480', avg(finishing)=70.0, avg(acceleration)=72.0, avg(shot_power)=72.0),\n",
       " Row(player_api_id='175806', avg(finishing)=45.0, avg(acceleration)=74.0, avg(shot_power)=45.0),\n",
       " Row(player_api_id='32891', avg(finishing)=19.0, avg(acceleration)=52.0, avg(shot_power)=69.0),\n",
       " Row(player_api_id='166768', avg(finishing)=20.0, avg(acceleration)=49.0, avg(shot_power)=25.0),\n",
       " Row(player_api_id='426202', avg(finishing)=76.0, avg(acceleration)=86.0, avg(shot_power)=77.0),\n",
       " Row(player_api_id='464486', avg(finishing)=71.0, avg(acceleration)=76.0, avg(shot_power)=70.0),\n",
       " Row(player_api_id='30929', avg(finishing)=44.0, avg(acceleration)=64.0, avg(shot_power)=60.0),\n",
       " Row(player_api_id='394462', avg(finishing)=62.0, avg(acceleration)=73.0, avg(shot_power)=70.0),\n",
       " Row(player_api_id='195190', avg(finishing)=45.0, avg(acceleration)=80.5, avg(shot_power)=64.0),\n",
       " Row(player_api_id='160496', avg(finishing)=69.0, avg(acceleration)=80.5, avg(shot_power)=67.0),\n",
       " Row(player_api_id='278284', avg(finishing)=44.0, avg(acceleration)=75.0, avg(shot_power)=38.0),\n",
       " Row(player_api_id='39971', avg(finishing)=62.0, avg(acceleration)=84.0, avg(shot_power)=75.0),\n",
       " Row(player_api_id='171789', avg(finishing)=48.0, avg(acceleration)=74.0, avg(shot_power)=60.0),\n",
       " Row(player_api_id='358759', avg(finishing)=39.0, avg(acceleration)=68.0, avg(shot_power)=75.0),\n",
       " Row(player_api_id='39492', avg(finishing)=22.0, avg(acceleration)=63.0, avg(shot_power)=61.0),\n",
       " Row(player_api_id='149962', avg(finishing)=33.0, avg(acceleration)=73.0, avg(shot_power)=58.0),\n",
       " Row(player_api_id='231811', avg(finishing)=29.0, avg(acceleration)=31.0, avg(shot_power)=73.0),\n",
       " Row(player_api_id='68226', avg(finishing)=66.0, avg(acceleration)=76.0, avg(shot_power)=65.0),\n",
       " Row(player_api_id='38728', avg(finishing)=60.0, avg(acceleration)=55.0, avg(shot_power)=67.0),\n",
       " Row(player_api_id='27358', avg(finishing)=11.0, avg(acceleration)=20.0, avg(shot_power)=25.0),\n",
       " Row(player_api_id='98057', avg(finishing)=41.0, avg(acceleration)=80.0, avg(shot_power)=56.0),\n",
       " Row(player_api_id='188555', avg(finishing)=25.0, avg(acceleration)=66.4, avg(shot_power)=65.0),\n",
       " Row(player_api_id='30031', avg(finishing)=58.0, avg(acceleration)=69.57142857142857, avg(shot_power)=62.0),\n",
       " Row(player_api_id='41098', avg(finishing)=69.0, avg(acceleration)=66.0, avg(shot_power)=77.0),\n",
       " Row(player_api_id='150272', avg(finishing)=65.0, avg(acceleration)=71.0, avg(shot_power)=72.0),\n",
       " Row(player_api_id='467022', avg(finishing)=80.125, avg(acceleration)=68.875, avg(shot_power)=81.5),\n",
       " Row(player_api_id='668362', avg(finishing)=24.0, avg(acceleration)=68.0, avg(shot_power)=44.0),\n",
       " Row(player_api_id='164212', avg(finishing)=66.0, avg(acceleration)=73.0, avg(shot_power)=78.0),\n",
       " Row(player_api_id='510569', avg(finishing)=14.0, avg(acceleration)=40.714285714285715, avg(shot_power)=24.428571428571427),\n",
       " Row(player_api_id='155782', avg(finishing)=52.666666666666664, avg(acceleration)=79.0, avg(shot_power)=71.0),\n",
       " Row(player_api_id='37422', avg(finishing)=46.0, avg(acceleration)=70.0, avg(shot_power)=67.0),\n",
       " Row(player_api_id='215725', avg(finishing)=40.0, avg(acceleration)=69.0, avg(shot_power)=67.0),\n",
       " Row(player_api_id='12454', avg(finishing)=45.0, avg(acceleration)=60.0, avg(shot_power)=65.0),\n",
       " Row(player_api_id='74169', avg(finishing)=72.0, avg(acceleration)=77.0, avg(shot_power)=86.0),\n",
       " Row(player_api_id='37937', avg(finishing)=12.0, avg(acceleration)=56.0, avg(shot_power)=13.0),\n",
       " Row(player_api_id='42971', avg(finishing)=67.0, avg(acceleration)=90.0, avg(shot_power)=68.0),\n",
       " Row(player_api_id='115980', avg(finishing)=64.0, avg(acceleration)=91.0, avg(shot_power)=78.0),\n",
       " Row(player_api_id='127460', avg(finishing)=73.83333333333333, avg(acceleration)=83.16666666666667, avg(shot_power)=81.83333333333333),\n",
       " Row(player_api_id='39357', avg(finishing)=50.0, avg(acceleration)=68.0, avg(shot_power)=74.0),\n",
       " Row(player_api_id='26392', avg(finishing)=82.0, avg(acceleration)=82.0, avg(shot_power)=72.0),\n",
       " Row(player_api_id='467318', avg(finishing)=58.0, avg(acceleration)=77.0, avg(shot_power)=55.0),\n",
       " Row(player_api_id='191132', avg(finishing)=45.0, avg(acceleration)=74.0, avg(shot_power)=58.0),\n",
       " Row(player_api_id='115068', avg(finishing)=59.0, avg(acceleration)=65.0, avg(shot_power)=71.0),\n",
       " Row(player_api_id='181069', avg(finishing)=16.0, avg(acceleration)=37.0, avg(shot_power)=38.0),\n",
       " Row(player_api_id='614449', avg(finishing)=60.4, avg(acceleration)=68.0, avg(shot_power)=68.0),\n",
       " Row(player_api_id='520342', avg(finishing)=34.0, avg(acceleration)=54.0, avg(shot_power)=58.0),\n",
       " Row(player_api_id='210120', avg(finishing)=65.75, avg(acceleration)=76.0, avg(shot_power)=74.0),\n",
       " Row(player_api_id='39225', avg(finishing)=81.0, avg(acceleration)=48.0, avg(shot_power)=85.0),\n",
       " Row(player_api_id='428947', avg(finishing)=79.0, avg(acceleration)=72.0, avg(shot_power)=63.0),\n",
       " Row(player_api_id='465728', avg(finishing)=71.0, avg(acceleration)=85.0, avg(shot_power)=71.0),\n",
       " Row(player_api_id='33080', avg(finishing)=70.4, avg(acceleration)=66.4, avg(shot_power)=79.0),\n",
       " Row(player_api_id='23499', avg(finishing)=67.0, avg(acceleration)=51.0, avg(shot_power)=69.0),\n",
       " Row(player_api_id='294859', avg(finishing)=81.0, avg(acceleration)=80.0, avg(shot_power)=83.0),\n",
       " Row(player_api_id='26458', avg(finishing)=32.0, avg(acceleration)=55.0, avg(shot_power)=63.0),\n",
       " Row(player_api_id='240538', avg(finishing)=27.0, avg(acceleration)=69.0, avg(shot_power)=60.0),\n",
       " Row(player_api_id='26148', avg(finishing)=27.0, avg(acceleration)=65.0, avg(shot_power)=56.0),\n",
       " Row(player_api_id='71898', avg(finishing)=41.0, avg(acceleration)=46.666666666666664, avg(shot_power)=68.0),\n",
       " Row(player_api_id='189982', avg(finishing)=55.0, avg(acceleration)=68.0, avg(shot_power)=78.0),\n",
       " Row(player_api_id='518663', avg(finishing)=57.142857142857146, avg(acceleration)=85.0, avg(shot_power)=77.14285714285714),\n",
       " Row(player_api_id='282676', avg(finishing)=42.0, avg(acceleration)=73.0, avg(shot_power)=81.0),\n",
       " Row(player_api_id='604589', avg(finishing)=48.0, avg(acceleration)=70.0, avg(shot_power)=53.0),\n",
       " Row(player_api_id='24171', avg(finishing)=72.0, avg(acceleration)=69.0, avg(shot_power)=80.0),\n",
       " Row(player_api_id='467521', avg(finishing)=66.66666666666667, avg(acceleration)=62.0, avg(shot_power)=71.0),\n",
       " Row(player_api_id='46232', avg(finishing)=37.0, avg(acceleration)=33.0, avg(shot_power)=55.0),\n",
       " Row(player_api_id='39578', avg(finishing)=63.5, avg(acceleration)=46.0, avg(shot_power)=71.0),\n",
       " Row(player_api_id='111703', avg(finishing)=39.0, avg(acceleration)=69.0, avg(shot_power)=41.0),\n",
       " Row(player_api_id='198566', avg(finishing)=71.0, avg(acceleration)=68.0, avg(shot_power)=62.0),\n",
       " Row(player_api_id='36035', avg(finishing)=66.0, avg(acceleration)=63.5, avg(shot_power)=78.5),\n",
       " Row(player_api_id='154249', avg(finishing)=83.0, avg(acceleration)=74.0, avg(shot_power)=78.0),\n",
       " Row(player_api_id='24403', avg(finishing)=24.0, avg(acceleration)=68.0, avg(shot_power)=66.0),\n",
       " Row(player_api_id='43268', avg(finishing)=59.0, avg(acceleration)=70.0, avg(shot_power)=68.0),\n",
       " Row(player_api_id='212156', avg(finishing)=56.0, avg(acceleration)=76.0, avg(shot_power)=66.0),\n",
       " Row(player_api_id='212377', avg(finishing)=49.0, avg(acceleration)=83.0, avg(shot_power)=67.0),\n",
       " Row(player_api_id='399549', avg(finishing)=40.0, avg(acceleration)=70.0, avg(shot_power)=70.0),\n",
       " Row(player_api_id='40220', avg(finishing)=52.0, avg(acceleration)=68.0, avg(shot_power)=67.0),\n",
       " Row(player_api_id='303345', avg(finishing)=38.0, avg(acceleration)=62.0, avg(shot_power)=60.0),\n",
       " Row(player_api_id='207021', avg(finishing)=46.0, avg(acceleration)=73.0, avg(shot_power)=61.0),\n",
       " Row(player_api_id='163918', avg(finishing)=32.0, avg(acceleration)=69.0, avg(shot_power)=68.0),\n",
       " Row(player_api_id='202443', avg(finishing)=77.25, avg(acceleration)=82.0, avg(shot_power)=80.5),\n",
       " Row(player_api_id='160936', avg(finishing)=61.0, avg(acceleration)=71.0, avg(shot_power)=70.0),\n",
       " Row(player_api_id='246571', avg(finishing)=20.0, avg(acceleration)=61.0, avg(shot_power)=62.0),\n",
       " Row(player_api_id='97727', avg(finishing)=15.0, avg(acceleration)=48.0, avg(shot_power)=33.0),\n",
       " Row(player_api_id='23823', avg(finishing)=27.0, avg(acceleration)=67.0, avg(shot_power)=73.0),\n",
       " Row(player_api_id='96598', avg(finishing)=61.0, avg(acceleration)=62.0, avg(shot_power)=76.0),\n",
       " Row(player_api_id='112471', avg(finishing)=70.66666666666667, avg(acceleration)=64.0, avg(shot_power)=68.66666666666667),\n",
       " Row(player_api_id='74305', avg(finishing)=44.0, avg(acceleration)=69.0, avg(shot_power)=76.0),\n",
       " Row(player_api_id='684552', avg(finishing)=66.0, avg(acceleration)=64.0, avg(shot_power)=73.0),\n",
       " Row(player_api_id='101426', avg(finishing)=64.0, avg(acceleration)=62.0, avg(shot_power)=64.0),\n",
       " Row(player_api_id='41329', avg(finishing)=52.0, avg(acceleration)=69.0, avg(shot_power)=73.0),\n",
       " Row(player_api_id='212630', avg(finishing)=18.0, avg(acceleration)=48.0, avg(shot_power)=19.0),\n",
       " Row(player_api_id='190972', avg(finishing)=52.0, avg(acceleration)=72.0, avg(shot_power)=66.0),\n",
       " Row(player_api_id='425988', avg(finishing)=59.0, avg(acceleration)=52.0, avg(shot_power)=73.0),\n",
       " Row(player_api_id='45254', avg(finishing)=46.0, avg(acceleration)=78.0, avg(shot_power)=71.0),\n",
       " Row(player_api_id='38449', avg(finishing)=42.0, avg(acceleration)=61.0, avg(shot_power)=70.0),\n",
       " Row(player_api_id='570359', avg(finishing)=26.0, avg(acceleration)=33.0, avg(shot_power)=44.0),\n",
       " Row(player_api_id='30840', avg(finishing)=72.0, avg(acceleration)=48.0, avg(shot_power)=80.0),\n",
       " Row(player_api_id='589344', avg(finishing)=62.833333333333336, avg(acceleration)=77.16666666666667, avg(shot_power)=84.66666666666667),\n",
       " Row(player_api_id='37506', avg(finishing)=79.5, avg(acceleration)=67.0, avg(shot_power)=83.0),\n",
       " Row(player_api_id='459658', avg(finishing)=71.0, avg(acceleration)=69.75, avg(shot_power)=76.0),\n",
       " Row(player_api_id='183484', avg(finishing)=67.0, avg(acceleration)=80.0, avg(shot_power)=70.0),\n",
       " Row(player_api_id='46403', avg(finishing)=38.0, avg(acceleration)=49.0, avg(shot_power)=64.0),\n",
       " Row(player_api_id='11798', avg(finishing)=64.0, avg(acceleration)=78.0, avg(shot_power)=69.0),\n",
       " Row(player_api_id='180197', avg(finishing)=18.0, avg(acceleration)=33.0, avg(shot_power)=23.0),\n",
       " Row(player_api_id='33028', avg(finishing)=86.0, avg(acceleration)=71.0, avg(shot_power)=81.0),\n",
       " Row(player_api_id='173466', avg(finishing)=58.0, avg(acceleration)=67.0, avg(shot_power)=74.0),\n",
       " Row(player_api_id='45749', avg(finishing)=69.0, avg(acceleration)=68.0, avg(shot_power)=88.0),\n",
       " Row(player_api_id='112848', avg(finishing)=22.0, avg(acceleration)=62.0, avg(shot_power)=48.0),\n",
       " Row(player_api_id='265363', avg(finishing)=53.0, avg(acceleration)=88.33333333333333, avg(shot_power)=72.66666666666667),\n",
       " Row(player_api_id='358155', avg(finishing)=33.5, avg(acceleration)=63.0, avg(shot_power)=59.0),\n",
       " Row(player_api_id='183331', avg(finishing)=31.0, avg(acceleration)=61.0, avg(shot_power)=58.0),\n",
       " Row(player_api_id='26118', avg(finishing)=34.0, avg(acceleration)=55.0, avg(shot_power)=77.0),\n",
       " Row(player_api_id='427438', avg(finishing)=52.0, avg(acceleration)=96.0, avg(shot_power)=52.0),\n",
       " Row(player_api_id='25773', avg(finishing)=82.0, avg(acceleration)=69.0, avg(shot_power)=84.0),\n",
       " Row(player_api_id='109897', avg(finishing)=29.0, avg(acceleration)=63.0, avg(shot_power)=40.0),\n",
       " Row(player_api_id='237542', avg(finishing)=51.0, avg(acceleration)=55.0, avg(shot_power)=88.0),\n",
       " Row(player_api_id='151009', avg(finishing)=36.0, avg(acceleration)=68.25, avg(shot_power)=43.0),\n",
       " Row(player_api_id='602555', avg(finishing)=67.0, avg(acceleration)=69.0, avg(shot_power)=61.0),\n",
       " Row(player_api_id='568589', avg(finishing)=63.0, avg(acceleration)=71.0, avg(shot_power)=73.0),\n",
       " Row(player_api_id='26805', avg(finishing)=29.0, avg(acceleration)=55.0, avg(shot_power)=67.0),\n",
       " Row(player_api_id='26494', avg(finishing)=62.5, avg(acceleration)=64.0, avg(shot_power)=71.0),\n",
       " Row(player_api_id='49851', avg(finishing)=43.0, avg(acceleration)=61.0, avg(shot_power)=82.0),\n",
       " Row(player_api_id='140982', avg(finishing)=58.0, avg(acceleration)=89.0, avg(shot_power)=62.0),\n",
       " Row(player_api_id='97496', avg(finishing)=71.0, avg(acceleration)=73.0, avg(shot_power)=80.0),\n",
       " Row(player_api_id='170667', avg(finishing)=50.0, avg(acceleration)=50.0, avg(shot_power)=66.0),\n",
       " Row(player_api_id='31906', avg(finishing)=81.88888888888889, avg(acceleration)=78.0, avg(shot_power)=76.0),\n",
       " Row(player_api_id='139806', avg(finishing)=25.0, avg(acceleration)=64.0, avg(shot_power)=65.0),\n",
       " Row(player_api_id='213799', avg(finishing)=53.0, avg(acceleration)=68.0, avg(shot_power)=70.2),\n",
       " Row(player_api_id='176300', avg(finishing)=74.0, avg(acceleration)=89.0, avg(shot_power)=84.0),\n",
       " Row(player_api_id='240556', avg(finishing)=50.0, avg(acceleration)=70.0, avg(shot_power)=48.0),\n",
       " Row(player_api_id='212511', avg(finishing)=45.0, avg(acceleration)=58.0, avg(shot_power)=63.0),\n",
       " Row(player_api_id='523758', avg(finishing)=36.0, avg(acceleration)=62.0, avg(shot_power)=56.0),\n",
       " Row(player_api_id='39229', avg(finishing)=38.0, avg(acceleration)=78.0, avg(shot_power)=63.0),\n",
       " Row(player_api_id='161012', avg(finishing)=44.5, avg(acceleration)=65.0, avg(shot_power)=68.0),\n",
       " Row(player_api_id='610668', avg(finishing)=53.0, avg(acceleration)=59.42857142857143, avg(shot_power)=52.0),\n",
       " Row(player_api_id='181357', avg(finishing)=68.0, avg(acceleration)=74.0, avg(shot_power)=81.0),\n",
       " Row(player_api_id='27658', avg(finishing)=12.0, avg(acceleration)=45.0, avg(shot_power)=23.0),\n",
       " Row(player_api_id='150007', avg(finishing)=29.0, avg(acceleration)=75.0, avg(shot_power)=49.0),\n",
       " Row(player_api_id='40621', avg(finishing)=16.0, avg(acceleration)=55.0, avg(shot_power)=60.0),\n",
       " Row(player_api_id='470539', avg(finishing)=52.0, avg(acceleration)=77.0, avg(shot_power)=78.0),\n",
       " Row(player_api_id='425426', avg(finishing)=60.0, avg(acceleration)=69.0, avg(shot_power)=58.0),\n",
       " Row(player_api_id='488140', avg(finishing)=53.0, avg(acceleration)=69.0, avg(shot_power)=66.0),\n",
       " Row(player_api_id='91929', avg(finishing)=12.0, avg(acceleration)=51.0, avg(shot_power)=24.0),\n",
       " Row(player_api_id='229737', avg(finishing)=51.0, avg(acceleration)=83.0, avg(shot_power)=52.0),\n",
       " Row(player_api_id='198559', avg(finishing)=53.142857142857146, avg(acceleration)=65.71428571428571, avg(shot_power)=73.85714285714286),\n",
       " Row(player_api_id='39450', avg(finishing)=69.0, avg(acceleration)=76.0, avg(shot_power)=75.0),\n",
       " Row(player_api_id='465797', avg(finishing)=59.5, avg(acceleration)=74.5, avg(shot_power)=61.0),\n",
       " Row(player_api_id='40668', avg(finishing)=60.0, avg(acceleration)=68.0, avg(shot_power)=61.0),\n",
       " Row(player_api_id='43372', avg(finishing)=66.0, avg(acceleration)=65.0, avg(shot_power)=91.0),\n",
       " Row(player_api_id='27424', avg(finishing)=14.0, avg(acceleration)=46.0, avg(shot_power)=23.0),\n",
       " Row(player_api_id='71017', avg(finishing)=64.33333333333333, avg(acceleration)=67.0, avg(shot_power)=70.0),\n",
       " Row(player_api_id='18592', avg(finishing)=62.0, avg(acceleration)=76.0, avg(shot_power)=75.0),\n",
       " Row(player_api_id='160448', avg(finishing)=64.0, avg(acceleration)=68.0, avg(shot_power)=72.0),\n",
       " Row(player_api_id='37240', avg(finishing)=68.5, avg(acceleration)=73.0, avg(shot_power)=69.0),\n",
       " Row(player_api_id='69553', avg(finishing)=36.0, avg(acceleration)=38.0, avg(shot_power)=39.0),\n",
       " Row(player_api_id='121872', avg(finishing)=46.0, avg(acceleration)=50.0, avg(shot_power)=61.0),\n",
       " Row(player_api_id='79160', avg(finishing)=15.0, avg(acceleration)=45.0, avg(shot_power)=47.0),\n",
       " Row(player_api_id='114746', avg(finishing)=75.33333333333333, avg(acceleration)=54.666666666666664, avg(shot_power)=77.66666666666667),\n",
       " Row(player_api_id='40825', avg(finishing)=63.0, avg(acceleration)=76.0, avg(shot_power)=74.0),\n",
       " Row(player_api_id='45744', avg(finishing)=74.0, avg(acceleration)=80.5, avg(shot_power)=71.5),\n",
       " Row(player_api_id='25816', avg(finishing)=63.0, avg(acceleration)=69.0, avg(shot_power)=72.0),\n",
       " Row(player_api_id='150323', avg(finishing)=58.0, avg(acceleration)=63.0, avg(shot_power)=67.0),\n",
       " Row(player_api_id='182776', avg(finishing)=44.0, avg(acceleration)=86.0, avg(shot_power)=70.0),\n",
       " Row(player_api_id='107280', avg(finishing)=71.0, avg(acceleration)=74.0, avg(shot_power)=73.0),\n",
       " Row(player_api_id='205278', avg(finishing)=54.0, avg(acceleration)=68.0, avg(shot_power)=69.0),\n",
       " Row(player_api_id='26408', avg(finishing)=61.0, avg(acceleration)=68.0, avg(shot_power)=69.0),\n",
       " Row(player_api_id='103218', avg(finishing)=15.0, avg(acceleration)=50.0, avg(shot_power)=14.0),\n",
       " Row(player_api_id='340790', avg(finishing)=43.0, avg(acceleration)=74.0, avg(shot_power)=62.0),\n",
       " Row(player_api_id='242308', avg(finishing)=70.0, avg(acceleration)=69.0, avg(shot_power)=72.0),\n",
       " Row(player_api_id='196864', avg(finishing)=29.0, avg(acceleration)=52.6, avg(shot_power)=36.0),\n",
       " Row(player_api_id='438507', avg(finishing)=62.0, avg(acceleration)=75.0, avg(shot_power)=52.0),\n",
       " Row(player_api_id='38699', avg(finishing)=84.0, avg(acceleration)=86.0, avg(shot_power)=76.0),\n",
       " Row(player_api_id='112758', avg(finishing)=58.0, avg(acceleration)=68.0, avg(shot_power)=76.0),\n",
       " Row(player_api_id='30949', avg(finishing)=47.0, avg(acceleration)=34.0, avg(shot_power)=80.0),\n",
       " Row(player_api_id='109649', avg(finishing)=53.0, avg(acceleration)=40.0, avg(shot_power)=75.0),\n",
       " Row(player_api_id='299984', avg(finishing)=32.0, avg(acceleration)=84.0, avg(shot_power)=59.0),\n",
       " Row(player_api_id='51348', avg(finishing)=39.0, avg(acceleration)=78.0, avg(shot_power)=57.0),\n",
       " Row(player_api_id='42491', avg(finishing)=69.0, avg(acceleration)=82.4, avg(shot_power)=71.4),\n",
       " Row(player_api_id='660153', avg(finishing)=28.5, avg(acceleration)=69.0, avg(shot_power)=51.5),\n",
       " Row(player_api_id='159854', avg(finishing)=56.0, avg(acceleration)=74.0, avg(shot_power)=60.0),\n",
       " Row(player_api_id='39569', avg(finishing)=29.0, avg(acceleration)=50.0, avg(shot_power)=53.0),\n",
       " Row(player_api_id='302372', avg(finishing)=19.0, avg(acceleration)=66.0, avg(shot_power)=46.0),\n",
       " Row(player_api_id='215369', avg(finishing)=35.0, avg(acceleration)=73.0, avg(shot_power)=32.0),\n",
       " Row(player_api_id='30530', avg(finishing)=45.0, avg(acceleration)=67.0, avg(shot_power)=65.0),\n",
       " Row(player_api_id='30459', avg(finishing)=39.0, avg(acceleration)=33.0, avg(shot_power)=48.0),\n",
       " Row(player_api_id='18483', avg(finishing)=66.0, avg(acceleration)=70.0, avg(shot_power)=78.0),\n",
       " Row(player_api_id='609734', avg(finishing)=64.0, avg(acceleration)=79.0, avg(shot_power)=55.0),\n",
       " Row(player_api_id='32827', avg(finishing)=59.0, avg(acceleration)=66.0, avg(shot_power)=68.0),\n",
       " Row(player_api_id='21410', avg(finishing)=66.0, avg(acceleration)=69.0, avg(shot_power)=75.0),\n",
       " Row(player_api_id='232110', avg(finishing)=55.0, avg(acceleration)=80.0, avg(shot_power)=62.0),\n",
       " Row(player_api_id='196311', avg(finishing)=71.66666666666667, avg(acceleration)=74.0, avg(shot_power)=76.0),\n",
       " Row(player_api_id='185386', avg(finishing)=14.0, avg(acceleration)=52.0, avg(shot_power)=27.0),\n",
       " Row(player_api_id='393272', avg(finishing)=59.0, avg(acceleration)=80.0, avg(shot_power)=60.0),\n",
       " Row(player_api_id='269788', avg(finishing)=41.0, avg(acceleration)=66.0, avg(shot_power)=53.0),\n",
       " Row(player_api_id='71602', avg(finishing)=78.0, avg(acceleration)=84.0, avg(shot_power)=81.0),\n",
       " Row(player_api_id='38432', avg(finishing)=48.0, avg(acceleration)=53.0, avg(shot_power)=67.0),\n",
       " Row(player_api_id='39844', avg(finishing)=59.0, avg(acceleration)=78.0, avg(shot_power)=62.0),\n",
       " Row(player_api_id='364520', avg(finishing)=80.0, avg(acceleration)=86.0, avg(shot_power)=80.5),\n",
       " Row(player_api_id='213061', avg(finishing)=68.0, avg(acceleration)=68.66666666666667, avg(shot_power)=74.0),\n",
       " Row(player_api_id='80561', avg(finishing)=63.0, avg(acceleration)=88.0, avg(shot_power)=73.5),\n",
       " Row(player_api_id='103904', avg(finishing)=59.0, avg(acceleration)=83.0, avg(shot_power)=74.0),\n",
       " Row(player_api_id='40196', avg(finishing)=70.0, avg(acceleration)=77.0, avg(shot_power)=83.0),\n",
       " Row(player_api_id='566785', avg(finishing)=36.0, avg(acceleration)=66.0, avg(shot_power)=51.0),\n",
       " Row(player_api_id='42393', avg(finishing)=45.0, avg(acceleration)=76.0, avg(shot_power)=57.0),\n",
       " Row(player_api_id='71550', avg(finishing)=76.25, avg(acceleration)=77.5, avg(shot_power)=79.0),\n",
       " Row(player_api_id='75194', avg(finishing)=72.0, avg(acceleration)=52.0, avg(shot_power)=74.0),\n",
       " Row(player_api_id='68762', avg(finishing)=38.0, avg(acceleration)=75.0, avg(shot_power)=61.0),\n",
       " Row(player_api_id='33782', avg(finishing)=82.33333333333333, avg(acceleration)=83.0, avg(shot_power)=73.0),\n",
       " Row(player_api_id='24130', avg(finishing)=53.75, avg(acceleration)=53.0, avg(shot_power)=90.0),\n",
       " Row(player_api_id='46757', avg(finishing)=74.0, avg(acceleration)=61.0, avg(shot_power)=75.0),\n",
       " Row(player_api_id='577045', avg(finishing)=67.0, avg(acceleration)=78.0, avg(shot_power)=70.0),\n",
       " Row(player_api_id='309890', avg(finishing)=57.0, avg(acceleration)=71.0, avg(shot_power)=55.0),\n",
       " Row(player_api_id='33109', avg(finishing)=12.0, avg(acceleration)=44.0, avg(shot_power)=22.0),\n",
       " Row(player_api_id='185636', avg(finishing)=62.0, avg(acceleration)=86.0, avg(shot_power)=71.0),\n",
       " Row(player_api_id='206844', avg(finishing)=62.0, avg(acceleration)=84.0, avg(shot_power)=61.333333333333336),\n",
       " Row(player_api_id='179115', avg(finishing)=59.0, avg(acceleration)=73.0, avg(shot_power)=77.0),\n",
       " Row(player_api_id='185798', avg(finishing)=23.0, avg(acceleration)=57.0, avg(shot_power)=72.0),\n",
       " Row(player_api_id='181910', avg(finishing)=11.0, avg(acceleration)=57.0, avg(shot_power)=23.0),\n",
       " Row(player_api_id='33845', avg(finishing)=11.0, avg(acceleration)=46.0, avg(shot_power)=21.0),\n",
       " Row(player_api_id='360560', avg(finishing)=69.0, avg(acceleration)=76.0, avg(shot_power)=83.0),\n",
       " Row(player_api_id='127374', avg(finishing)=28.0, avg(acceleration)=66.5, avg(shot_power)=78.0),\n",
       " Row(player_api_id='66753', avg(finishing)=66.6, avg(acceleration)=84.0, avg(shot_power)=69.0),\n",
       " Row(player_api_id='231801', avg(finishing)=66.0, avg(acceleration)=83.25, avg(shot_power)=75.0),\n",
       " Row(player_api_id='518346', avg(finishing)=49.0, avg(acceleration)=71.0, avg(shot_power)=73.0),\n",
       " Row(player_api_id='141370', avg(finishing)=55.0, avg(acceleration)=77.0, avg(shot_power)=75.0),\n",
       " Row(player_api_id='36146', avg(finishing)=33.0, avg(acceleration)=67.0, avg(shot_power)=64.0),\n",
       " Row(player_api_id='72436', avg(finishing)=77.0, avg(acceleration)=69.0, avg(shot_power)=86.0),\n",
       " Row(player_api_id='71563', avg(finishing)=53.0, avg(acceleration)=72.0, avg(shot_power)=74.0),\n",
       " Row(player_api_id='257865', avg(finishing)=55.0, avg(acceleration)=52.0, avg(shot_power)=65.0),\n",
       " Row(player_api_id='364496', avg(finishing)=63.0, avg(acceleration)=72.0, avg(shot_power)=63.0),\n",
       " Row(player_api_id='41816', avg(finishing)=39.142857142857146, avg(acceleration)=58.57142857142857, avg(shot_power)=76.0),\n",
       " Row(player_api_id='118434', avg(finishing)=56.0, avg(acceleration)=80.16666666666667, avg(shot_power)=83.0),\n",
       " Row(player_api_id='38827', avg(finishing)=77.0, avg(acceleration)=33.0, avg(shot_power)=75.0),\n",
       " Row(player_api_id='243509', avg(finishing)=58.0, avg(acceleration)=66.0, avg(shot_power)=67.0),\n",
       " Row(player_api_id='39792', avg(finishing)=72.0, avg(acceleration)=79.0, avg(shot_power)=74.0),\n",
       " Row(player_api_id='27371', avg(finishing)=58.0, avg(acceleration)=81.0, avg(shot_power)=64.0),\n",
       " Row(player_api_id='158278', avg(finishing)=60.0, avg(acceleration)=65.0, avg(shot_power)=68.0),\n",
       " Row(player_api_id='289278', avg(finishing)=70.66666666666667, avg(acceleration)=84.0, avg(shot_power)=66.0),\n",
       " Row(player_api_id='198500', avg(finishing)=62.0, avg(acceleration)=63.0, avg(shot_power)=54.0),\n",
       " Row(player_api_id='300978', avg(finishing)=61.0, avg(acceleration)=92.0, avg(shot_power)=77.0),\n",
       " Row(player_api_id='78324', avg(finishing)=63.0, avg(acceleration)=79.0, avg(shot_power)=80.0),\n",
       " Row(player_api_id='354475', avg(finishing)=60.0, avg(acceleration)=82.0, avg(shot_power)=59.0),\n",
       " Row(player_api_id='98058', avg(finishing)=65.66666666666667, avg(acceleration)=80.0, avg(shot_power)=68.0),\n",
       " Row(player_api_id='26403', avg(finishing)=52.0, avg(acceleration)=72.0, avg(shot_power)=80.0),\n",
       " Row(player_api_id='116253', avg(finishing)=70.0, avg(acceleration)=71.2, avg(shot_power)=74.0),\n",
       " Row(player_api_id='96838', avg(finishing)=71.5, avg(acceleration)=76.0, avg(shot_power)=74.0),\n",
       " Row(player_api_id='75416', avg(finishing)=61.0, avg(acceleration)=68.0, avg(shot_power)=65.0),\n",
       " Row(player_api_id='182892', avg(finishing)=61.333333333333336, avg(acceleration)=68.0, avg(shot_power)=75.0),\n",
       " Row(player_api_id='206801', avg(finishing)=13.0, avg(acceleration)=35.0, avg(shot_power)=13.0),\n",
       " Row(player_api_id='35628', avg(finishing)=53.0, avg(acceleration)=65.0, avg(shot_power)=76.0),\n",
       " Row(player_api_id='206508', avg(finishing)=63.714285714285715, avg(acceleration)=75.0, avg(shot_power)=79.0),\n",
       " Row(player_api_id='23507', avg(finishing)=18.0, avg(acceleration)=41.5, avg(shot_power)=27.0),\n",
       " Row(player_api_id='422412', avg(finishing)=64.0, avg(acceleration)=84.0, avg(shot_power)=61.0),\n",
       " Row(player_api_id='243439', avg(finishing)=64.0, avg(acceleration)=75.0, avg(shot_power)=66.0),\n",
       " Row(player_api_id='742405', avg(finishing)=32.0, avg(acceleration)=65.0, avg(shot_power)=48.0),\n",
       " Row(player_api_id='179511', avg(finishing)=69.0, avg(acceleration)=74.0, avg(shot_power)=78.0),\n",
       " Row(player_api_id='181312', avg(finishing)=37.0, avg(acceleration)=65.0, avg(shot_power)=69.0),\n",
       " Row(player_api_id='92935', avg(finishing)=81.0, avg(acceleration)=64.0, avg(shot_power)=78.0),\n",
       " Row(player_api_id='26111', avg(finishing)=40.0, avg(acceleration)=75.0, avg(shot_power)=69.0),\n",
       " Row(player_api_id='303343', avg(finishing)=57.0, avg(acceleration)=87.0, avg(shot_power)=52.0),\n",
       " Row(player_api_id='141145', avg(finishing)=79.5, avg(acceleration)=73.5, avg(shot_power)=84.0),\n",
       " Row(player_api_id='543969', avg(finishing)=32.0, avg(acceleration)=68.0, avg(shot_power)=33.0),\n",
       " Row(player_api_id='210423', avg(finishing)=16.0, avg(acceleration)=86.0, avg(shot_power)=37.0),\n",
       " Row(player_api_id='154949', avg(finishing)=56.0, avg(acceleration)=69.0, avg(shot_power)=85.0),\n",
       " Row(player_api_id='38818', avg(finishing)=42.0, avg(acceleration)=69.0, avg(shot_power)=76.0),\n",
       " Row(player_api_id='182138', avg(finishing)=25.0, avg(acceleration)=64.0, avg(shot_power)=45.0),\n",
       " Row(player_api_id='267380', avg(finishing)=72.0, avg(acceleration)=75.4, avg(shot_power)=74.2),\n",
       " Row(player_api_id='299358', avg(finishing)=71.0, avg(acceleration)=79.0, avg(shot_power)=72.0),\n",
       " Row(player_api_id='41667', avg(finishing)=49.0, avg(acceleration)=73.0, avg(shot_power)=66.5),\n",
       " Row(player_api_id='18376', avg(finishing)=39.0, avg(acceleration)=53.0, avg(shot_power)=66.0),\n",
       " Row(player_api_id='18859', avg(finishing)=80.0, avg(acceleration)=64.0, avg(shot_power)=71.0),\n",
       " Row(player_api_id='46349', avg(finishing)=75.0, avg(acceleration)=88.0, avg(shot_power)=73.0),\n",
       " Row(player_api_id='195414', avg(finishing)=55.0, avg(acceleration)=76.0, avg(shot_power)=71.0),\n",
       " Row(player_api_id='13033', avg(finishing)=23.0, avg(acceleration)=44.0, avg(shot_power)=22.0),\n",
       " Row(player_api_id='33579', avg(finishing)=50.0, avg(acceleration)=77.5, avg(shot_power)=76.0),\n",
       " Row(player_api_id='93480', avg(finishing)=73.0, avg(acceleration)=86.0, avg(shot_power)=80.0),\n",
       " Row(player_api_id='26741', avg(finishing)=59.0, avg(acceleration)=71.0, avg(shot_power)=80.0),\n",
       " Row(player_api_id='41097', avg(finishing)=11.0, avg(acceleration)=55.0, avg(shot_power)=21.0),\n",
       " Row(player_api_id='97752', avg(finishing)=63.0, avg(acceleration)=73.0, avg(shot_power)=75.0),\n",
       " Row(player_api_id='37844', avg(finishing)=56.0, avg(acceleration)=54.0, avg(shot_power)=54.0),\n",
       " Row(player_api_id='450002', avg(finishing)=21.0, avg(acceleration)=56.0, avg(shot_power)=40.0),\n",
       " Row(player_api_id='207603', avg(finishing)=55.0, avg(acceleration)=79.75, avg(shot_power)=61.0),\n",
       " Row(player_api_id='94883', avg(finishing)=72.0, avg(acceleration)=75.0, avg(shot_power)=83.0),\n",
       " Row(player_api_id='41404', avg(finishing)=58.0, avg(acceleration)=69.0, avg(shot_power)=80.0),\n",
       " Row(player_api_id='27324', avg(finishing)=74.0, avg(acceleration)=59.0, avg(shot_power)=83.0),\n",
       " Row(player_api_id='12766', avg(finishing)=60.0, avg(acceleration)=67.0, avg(shot_power)=72.0),\n",
       " Row(player_api_id='570432', avg(finishing)=51.0, avg(acceleration)=66.0, avg(shot_power)=81.0),\n",
       " Row(player_api_id='97521', avg(finishing)=31.0, avg(acceleration)=52.0, avg(shot_power)=42.0),\n",
       " Row(player_api_id='27420', avg(finishing)=63.0, avg(acceleration)=64.0, avg(shot_power)=79.0),\n",
       " Row(player_api_id='179798', avg(finishing)=69.0, avg(acceleration)=82.0, avg(shot_power)=68.0),\n",
       " Row(player_api_id='35905', avg(finishing)=77.0, avg(acceleration)=74.0, avg(shot_power)=77.0),\n",
       " Row(player_api_id='29471', avg(finishing)=30.0, avg(acceleration)=33.0, avg(shot_power)=57.0),\n",
       " Row(player_api_id='473855', avg(finishing)=70.33333333333333, avg(acceleration)=92.0, avg(shot_power)=71.0),\n",
       " Row(player_api_id='30455', avg(finishing)=15.0, avg(acceleration)=50.0, avg(shot_power)=30.0),\n",
       " Row(player_api_id='92507', avg(finishing)=46.0, avg(acceleration)=51.0, avg(shot_power)=65.0),\n",
       " Row(player_api_id='42598', avg(finishing)=76.0, avg(acceleration)=80.0, avg(shot_power)=80.0),\n",
       " Row(player_api_id='244563', avg(finishing)=70.0, avg(acceleration)=73.0, avg(shot_power)=68.0),\n",
       " Row(player_api_id='113465', avg(finishing)=66.0, avg(acceleration)=90.0, avg(shot_power)=73.0),\n",
       " Row(player_api_id='289817', avg(finishing)=21.0, avg(acceleration)=68.0, avg(shot_power)=47.0),\n",
       " Row(player_api_id='701154', avg(finishing)=65.0, avg(acceleration)=82.0, avg(shot_power)=60.0),\n",
       " Row(player_api_id='24105', avg(finishing)=50.0, avg(acceleration)=79.0, avg(shot_power)=69.0),\n",
       " Row(player_api_id='18520', avg(finishing)=37.0, avg(acceleration)=66.0, avg(shot_power)=71.0),\n",
       " Row(player_api_id='71908', avg(finishing)=34.0, avg(acceleration)=67.0, avg(shot_power)=61.0),\n",
       " Row(player_api_id='185014', avg(finishing)=69.66666666666667, avg(acceleration)=91.0, avg(shot_power)=74.33333333333333),\n",
       " Row(player_api_id='352402', avg(finishing)=27.0, avg(acceleration)=50.0, avg(shot_power)=47.0),\n",
       " Row(player_api_id='21751', avg(finishing)=21.0, avg(acceleration)=72.0, avg(shot_power)=40.0),\n",
       " Row(player_api_id='308843', avg(finishing)=39.0, avg(acceleration)=64.0, avg(shot_power)=53.0),\n",
       " Row(player_api_id='321970', avg(finishing)=38.0, avg(acceleration)=51.0, avg(shot_power)=53.0),\n",
       " Row(player_api_id='415024', avg(finishing)=29.0, avg(acceleration)=69.0, avg(shot_power)=50.0),\n",
       " Row(player_api_id='303339', avg(finishing)=76.0, avg(acceleration)=93.0, avg(shot_power)=73.0),\n",
       " Row(player_api_id='104377', avg(finishing)=67.0, avg(acceleration)=79.0, avg(shot_power)=73.0),\n",
       " Row(player_api_id='35463', avg(finishing)=47.0, avg(acceleration)=72.0, avg(shot_power)=71.0),\n",
       " Row(player_api_id='597948', avg(finishing)=52.0, avg(acceleration)=65.0, avg(shot_power)=54.0),\n",
       " Row(player_api_id='293235', avg(finishing)=43.0, avg(acceleration)=79.0, avg(shot_power)=77.0),\n",
       " Row(player_api_id='157865', avg(finishing)=59.0, avg(acceleration)=87.0, avg(shot_power)=75.0),\n",
       " Row(player_api_id='39841', avg(finishing)=29.0, avg(acceleration)=75.0, avg(shot_power)=70.0),\n",
       " Row(player_api_id='148314', avg(finishing)=40.0, avg(acceleration)=79.0, avg(shot_power)=63.0),\n",
       " Row(player_api_id='46892', avg(finishing)=28.0, avg(acceleration)=25.0, avg(shot_power)=28.0),\n",
       " Row(player_api_id='314966', avg(finishing)=60.0, avg(acceleration)=80.0, avg(shot_power)=64.0),\n",
       " Row(player_api_id='644002', avg(finishing)=62.0, avg(acceleration)=76.33333333333333, avg(shot_power)=53.0),\n",
       " Row(player_api_id='38229', avg(finishing)=71.66666666666667, avg(acceleration)=68.0, avg(shot_power)=77.0),\n",
       " Row(player_api_id='693138', avg(finishing)=32.0, avg(acceleration)=72.5, avg(shot_power)=44.0),\n",
       " Row(player_api_id='281847', avg(finishing)=58.0, avg(acceleration)=73.0, avg(shot_power)=57.0),\n",
       " Row(player_api_id='32465', avg(finishing)=65.0, avg(acceleration)=77.0, avg(shot_power)=72.0),\n",
       " Row(player_api_id='34259', avg(finishing)=23.0, avg(acceleration)=66.0, avg(shot_power)=48.0),\n",
       " Row(player_api_id='35472', avg(finishing)=57.0, avg(acceleration)=47.0, avg(shot_power)=59.0),\n",
       " Row(player_api_id='244816', avg(finishing)=17.0, avg(acceleration)=68.0, avg(shot_power)=15.0),\n",
       " Row(player_api_id='35787', avg(finishing)=51.0, avg(acceleration)=66.0, avg(shot_power)=73.0),\n",
       " Row(player_api_id='426892', avg(finishing)=22.0, avg(acceleration)=81.75, avg(shot_power)=61.0),\n",
       " Row(player_api_id='355363', avg(finishing)=70.0, avg(acceleration)=53.0, avg(shot_power)=76.5),\n",
       " Row(player_api_id='69256', avg(finishing)=63.0, avg(acceleration)=77.0, avg(shot_power)=70.0),\n",
       " Row(player_api_id='188557', avg(finishing)=71.0, avg(acceleration)=68.0, avg(shot_power)=82.0),\n",
       " Row(player_api_id='31160', avg(finishing)=45.0, avg(acceleration)=54.0, avg(shot_power)=66.33333333333333),\n",
       " Row(player_api_id='350472', avg(finishing)=19.0, avg(acceleration)=64.0, avg(shot_power)=41.0),\n",
       " Row(player_api_id='27335', avg(finishing)=72.0, avg(acceleration)=75.0, avg(shot_power)=84.0),\n",
       " Row(player_api_id='229778', avg(finishing)=49.0, avg(acceleration)=61.0, avg(shot_power)=54.0),\n",
       " Row(player_api_id='114475', avg(finishing)=51.0, avg(acceleration)=69.0, avg(shot_power)=66.0),\n",
       " Row(player_api_id='150239', avg(finishing)=48.0, avg(acceleration)=51.333333333333336, avg(shot_power)=65.0),\n",
       " Row(player_api_id='196169', avg(finishing)=56.666666666666664, avg(acceleration)=76.0, avg(shot_power)=75.83333333333333),\n",
       " Row(player_api_id='34275', avg(finishing)=36.0, avg(acceleration)=34.0, avg(shot_power)=58.0),\n",
       " Row(player_api_id='319300', avg(finishing)=65.0, avg(acceleration)=79.8, avg(shot_power)=72.0),\n",
       " Row(player_api_id='24446', avg(finishing)=36.0, avg(acceleration)=41.0, avg(shot_power)=49.0),\n",
       " Row(player_api_id='201918', avg(finishing)=17.0, avg(acceleration)=73.0, avg(shot_power)=43.0),\n",
       " Row(player_api_id='40093', avg(finishing)=28.0, avg(acceleration)=33.0, avg(shot_power)=68.0),\n",
       " Row(player_api_id='27433', avg(finishing)=11.0, avg(acceleration)=28.0, avg(shot_power)=23.0),\n",
       " Row(player_api_id='465750', avg(finishing)=18.0, avg(acceleration)=77.0, avg(shot_power)=37.0),\n",
       " Row(player_api_id='26982', avg(finishing)=75.0, avg(acceleration)=79.0, avg(shot_power)=76.0),\n",
       " Row(player_api_id='178119', avg(finishing)=31.0, avg(acceleration)=32.0, avg(shot_power)=69.0),\n",
       " Row(player_api_id='94325', avg(finishing)=66.0, avg(acceleration)=77.0, avg(shot_power)=64.0),\n",
       " Row(player_api_id='561819', avg(finishing)=16.0, avg(acceleration)=53.0, avg(shot_power)=45.0),\n",
       " Row(player_api_id='111801', avg(finishing)=46.0, avg(acceleration)=66.0, avg(shot_power)=73.0),\n",
       " Row(player_api_id='268039', avg(finishing)=28.0, avg(acceleration)=49.0, avg(shot_power)=63.0),\n",
       " Row(player_api_id='687288', avg(finishing)=64.0, avg(acceleration)=78.0, avg(shot_power)=73.0),\n",
       " Row(player_api_id='30902', avg(finishing)=26.571428571428573, avg(acceleration)=71.85714285714286, avg(shot_power)=51.0),\n",
       " Row(player_api_id='39643', avg(finishing)=28.0, avg(acceleration)=52.0, avg(shot_power)=55.0),\n",
       " Row(player_api_id='182925', avg(finishing)=66.0, avg(acceleration)=60.0, avg(shot_power)=82.0),\n",
       " Row(player_api_id='46726', avg(finishing)=25.0, avg(acceleration)=56.0, avg(shot_power)=28.0),\n",
       " Row(player_api_id='51321', avg(finishing)=38.0, avg(acceleration)=70.0, avg(shot_power)=61.0),\n",
       " Row(player_api_id='68411', avg(finishing)=67.0, avg(acceleration)=77.0, avg(shot_power)=72.0),\n",
       " Row(player_api_id='27412', avg(finishing)=25.0, avg(acceleration)=42.0, avg(shot_power)=65.0),\n",
       " Row(player_api_id='179772', avg(finishing)=75.0, avg(acceleration)=88.0, avg(shot_power)=61.0),\n",
       " Row(player_api_id='33991', avg(finishing)=66.0, avg(acceleration)=91.0, avg(shot_power)=75.0),\n",
       " Row(player_api_id='46295', avg(finishing)=69.0, avg(acceleration)=91.0, avg(shot_power)=81.0),\n",
       " Row(player_api_id='154228', avg(finishing)=16.0, avg(acceleration)=34.0, avg(shot_power)=34.0),\n",
       " Row(player_api_id='437329', avg(finishing)=71.0, avg(acceleration)=81.0, avg(shot_power)=71.33333333333333),\n",
       " Row(player_api_id='121225', avg(finishing)=65.0, avg(acceleration)=86.0, avg(shot_power)=69.0),\n",
       " Row(player_api_id='30367', avg(finishing)=61.0, avg(acceleration)=79.25, avg(shot_power)=73.0),\n",
       " Row(player_api_id='110135', avg(finishing)=53.0, avg(acceleration)=62.0, avg(shot_power)=63.0),\n",
       " Row(player_api_id='444000', avg(finishing)=24.0, avg(acceleration)=69.0, avg(shot_power)=42.0),\n",
       " Row(player_api_id='543021', avg(finishing)=20.0, avg(acceleration)=40.0, avg(shot_power)=18.0),\n",
       " Row(player_api_id='232103', avg(finishing)=76.0, avg(acceleration)=95.0, avg(shot_power)=78.0),\n",
       " Row(player_api_id='203755', avg(finishing)=47.0, avg(acceleration)=69.0, avg(shot_power)=58.0),\n",
       " Row(player_api_id='432950', avg(finishing)=78.33333333333333, avg(acceleration)=86.0, avg(shot_power)=80.0),\n",
       " Row(player_api_id='362121', avg(finishing)=22.0, avg(acceleration)=51.0, avg(shot_power)=55.0),\n",
       " Row(player_api_id='73167', avg(finishing)=71.11111111111111, avg(acceleration)=87.0, avg(shot_power)=87.0),\n",
       " Row(player_api_id='209782', avg(finishing)=43.0, avg(acceleration)=62.0, avg(shot_power)=62.0),\n",
       " Row(player_api_id='57103', avg(finishing)=65.0, avg(acceleration)=31.0, avg(shot_power)=74.0),\n",
       " Row(player_api_id='39719', avg(finishing)=69.0, avg(acceleration)=74.0, avg(shot_power)=90.0),\n",
       " Row(player_api_id='41196', avg(finishing)=30.333333333333332, avg(acceleration)=76.0, avg(shot_power)=52.0),\n",
       " Row(player_api_id='96646', avg(finishing)=22.0, avg(acceleration)=55.0, avg(shot_power)=54.0),\n",
       " Row(player_api_id='40060', avg(finishing)=69.0, avg(acceleration)=90.0, avg(shot_power)=75.0),\n",
       " Row(player_api_id='47373', avg(finishing)=66.33333333333333, avg(acceleration)=78.0, avg(shot_power)=79.0),\n",
       " Row(player_api_id='34944', avg(finishing)=59.0, avg(acceleration)=53.0, avg(shot_power)=78.0),\n",
       " Row(player_api_id='488960', avg(finishing)=36.0, avg(acceleration)=56.0, avg(shot_power)=52.0),\n",
       " Row(player_api_id='39627', avg(finishing)=25.0, avg(acceleration)=41.0, avg(shot_power)=77.0),\n",
       " Row(player_api_id='27365', avg(finishing)=63.0, avg(acceleration)=59.0, avg(shot_power)=72.0),\n",
       " Row(player_api_id='163605', avg(finishing)=48.0, avg(acceleration)=75.0, avg(shot_power)=83.0),\n",
       " Row(player_api_id='34113', avg(finishing)=39.666666666666664, avg(acceleration)=57.333333333333336, avg(shot_power)=60.0),\n",
       " Row(player_api_id='75696', avg(finishing)=63.0, avg(acceleration)=84.0, avg(shot_power)=62.0),\n",
       " Row(player_api_id='118897', avg(finishing)=51.0, avg(acceleration)=70.0, avg(shot_power)=66.0),\n",
       " Row(player_api_id='302012', avg(finishing)=71.5, avg(acceleration)=80.75, avg(shot_power)=76.0),\n",
       " Row(player_api_id='261653', avg(finishing)=65.5, avg(acceleration)=67.0, avg(shot_power)=63.0),\n",
       " Row(player_api_id='194479', avg(finishing)=69.0, avg(acceleration)=74.0, avg(shot_power)=74.0),\n",
       " Row(player_api_id='361710', avg(finishing)=34.0, avg(acceleration)=48.0, avg(shot_power)=84.0),\n",
       " Row(player_api_id='447107', avg(finishing)=65.0, avg(acceleration)=72.0, avg(shot_power)=65.0),\n",
       " Row(player_api_id='661509', avg(finishing)=63.0, avg(acceleration)=57.0, avg(shot_power)=55.0),\n",
       " Row(player_api_id='31045', avg(finishing)=60.0, avg(acceleration)=85.0, avg(shot_power)=75.0),\n",
       " Row(player_api_id='26785', avg(finishing)=63.0, avg(acceleration)=68.0, avg(shot_power)=73.0),\n",
       " Row(player_api_id='195283', avg(finishing)=37.2, avg(acceleration)=73.0, avg(shot_power)=29.2),\n",
       " Row(player_api_id='19515', avg(finishing)=11.0, avg(acceleration)=42.0, avg(shot_power)=24.0),\n",
       " Row(player_api_id='388793', avg(finishing)=63.0, avg(acceleration)=61.0, avg(shot_power)=66.0),\n",
       " Row(player_api_id='37541', avg(finishing)=50.0, avg(acceleration)=60.0, avg(shot_power)=75.0),\n",
       " Row(player_api_id='429988', avg(finishing)=60.0, avg(acceleration)=81.625, avg(shot_power)=70.0),\n",
       " Row(player_api_id='27430', avg(finishing)=83.0, avg(acceleration)=54.0, avg(shot_power)=82.0),\n",
       " Row(player_api_id='470026', avg(finishing)=47.0, avg(acceleration)=63.0, avg(shot_power)=55.0),\n",
       " Row(player_api_id='121881', avg(finishing)=11.0, avg(acceleration)=43.0, avg(shot_power)=18.0),\n",
       " Row(player_api_id='30717', avg(finishing)=15.0, avg(acceleration)=49.0, avg(shot_power)=20.0),\n",
       " Row(player_api_id='474131', avg(finishing)=75.14285714285714, avg(acceleration)=67.0, avg(shot_power)=74.0),\n",
       " Row(player_api_id='185123', avg(finishing)=55.0, avg(acceleration)=72.0, avg(shot_power)=57.0),\n",
       " Row(player_api_id='280906', avg(finishing)=43.0, avg(acceleration)=78.0, avg(shot_power)=74.0),\n",
       " Row(player_api_id='190452', avg(finishing)=23.0, avg(acceleration)=73.0, avg(shot_power)=59.0),\n",
       " Row(player_api_id='363369', avg(finishing)=31.0, avg(acceleration)=76.0, avg(shot_power)=59.0),\n",
       " Row(player_api_id='93457', avg(finishing)=34.0, avg(acceleration)=57.0, avg(shot_power)=42.0),\n",
       " Row(player_api_id='181997', avg(finishing)=21.0, avg(acceleration)=54.0, avg(shot_power)=13.0),\n",
       " Row(player_api_id='70513', avg(finishing)=64.0, avg(acceleration)=64.0, avg(shot_power)=85.0),\n",
       " Row(player_api_id='164316', avg(finishing)=18.0, avg(acceleration)=36.0, avg(shot_power)=16.0),\n",
       " Row(player_api_id='36057', avg(finishing)=60.0, avg(acceleration)=77.0, avg(shot_power)=71.0),\n",
       " Row(player_api_id='474736', avg(finishing)=33.0, avg(acceleration)=75.0, avg(shot_power)=71.0),\n",
       " Row(player_api_id='111897', avg(finishing)=70.0, avg(acceleration)=77.66666666666667, avg(shot_power)=78.0),\n",
       " Row(player_api_id='194632', avg(finishing)=13.0, avg(acceleration)=37.0, avg(shot_power)=17.0),\n",
       " Row(player_api_id='31701', avg(finishing)=48.0, avg(acceleration)=63.0, avg(shot_power)=67.0),\n",
       " Row(player_api_id='113757', avg(finishing)=74.0, avg(acceleration)=65.0, avg(shot_power)=78.0),\n",
       " Row(player_api_id='164319', avg(finishing)=33.0, avg(acceleration)=69.0, avg(shot_power)=42.0),\n",
       " Row(player_api_id='275765', avg(finishing)=41.0, avg(acceleration)=69.66666666666667, avg(shot_power)=41.0),\n",
       " Row(player_api_id='11329', avg(finishing)=45.0, avg(acceleration)=61.0, avg(shot_power)=65.0),\n",
       " Row(player_api_id='113189', avg(finishing)=46.0, avg(acceleration)=53.0, avg(shot_power)=67.0),\n",
       " Row(player_api_id='39477', avg(finishing)=10.0, avg(acceleration)=33.0, avg(shot_power)=21.0),\n",
       " Row(player_api_id='32705', avg(finishing)=77.5, avg(acceleration)=76.0, avg(shot_power)=74.0),\n",
       " Row(player_api_id='384446', avg(finishing)=48.0, avg(acceleration)=75.0, avg(shot_power)=64.0),\n",
       " Row(player_api_id='33433', avg(finishing)=69.0, avg(acceleration)=59.0, avg(shot_power)=67.0),\n",
       " Row(player_api_id='282706', avg(finishing)=12.0, avg(acceleration)=41.0, avg(shot_power)=19.0),\n",
       " Row(player_api_id='210387', avg(finishing)=10.0, avg(acceleration)=40.0, avg(shot_power)=22.0),\n",
       " Row(player_api_id='281205', avg(finishing)=58.0, avg(acceleration)=68.0, avg(shot_power)=77.0),\n",
       " Row(player_api_id='265918', avg(finishing)=24.0, avg(acceleration)=70.0, avg(shot_power)=34.0),\n",
       " Row(player_api_id='359189', avg(finishing)=49.0, avg(acceleration)=79.0, avg(shot_power)=42.0),\n",
       " Row(player_api_id='94891', avg(finishing)=64.42857142857143, avg(acceleration)=66.28571428571429, avg(shot_power)=72.42857142857143),\n",
       " Row(player_api_id='118508', avg(finishing)=74.625, avg(acceleration)=86.0, avg(shot_power)=70.875),\n",
       " Row(player_api_id='97484', avg(finishing)=48.0, avg(acceleration)=45.0, avg(shot_power)=75.0),\n",
       " Row(player_api_id='21765', avg(finishing)=33.0, avg(acceleration)=40.0, avg(shot_power)=79.0),\n",
       " Row(player_api_id='18521', avg(finishing)=41.0, avg(acceleration)=64.0, avg(shot_power)=67.0),\n",
       " Row(player_api_id='150330', avg(finishing)=74.25, avg(acceleration)=89.0, avg(shot_power)=80.25),\n",
       " Row(player_api_id='15938', avg(finishing)=70.0, avg(acceleration)=55.333333333333336, avg(shot_power)=75.0),\n",
       " Row(player_api_id='230819', avg(finishing)=30.0, avg(acceleration)=67.0, avg(shot_power)=40.0),\n",
       " Row(player_api_id='165704', avg(finishing)=24.0, avg(acceleration)=67.0, avg(shot_power)=36.0),\n",
       " Row(player_api_id='39987', avg(finishing)=83.0, avg(acceleration)=89.0, avg(shot_power)=78.0),\n",
       " Row(player_api_id='45464', avg(finishing)=37.0, avg(acceleration)=69.0, avg(shot_power)=79.0),\n",
       " Row(player_api_id='108808', avg(finishing)=78.8, avg(acceleration)=75.2, avg(shot_power)=85.2),\n",
       " Row(player_api_id='95216', avg(finishing)=65.0, avg(acceleration)=75.0, avg(shot_power)=71.0),\n",
       " Row(player_api_id='38336', avg(finishing)=65.0, avg(acceleration)=81.0, avg(shot_power)=70.0),\n",
       " Row(player_api_id='37154', avg(finishing)=65.0, avg(acceleration)=67.0, avg(shot_power)=67.0),\n",
       " Row(player_api_id='517346', avg(finishing)=25.0, avg(acceleration)=67.0, avg(shot_power)=45.8),\n",
       " Row(player_api_id='358149', avg(finishing)=45.666666666666664, avg(acceleration)=69.0, avg(shot_power)=63.0),\n",
       " Row(player_api_id='300623', avg(finishing)=62.333333333333336, avg(acceleration)=72.0, avg(shot_power)=81.0),\n",
       " Row(player_api_id='245161', avg(finishing)=48.0, avg(acceleration)=80.0, avg(shot_power)=68.0),\n",
       " Row(player_api_id='449276', avg(finishing)=43.0, avg(acceleration)=68.0, avg(shot_power)=67.0),\n",
       " Row(player_api_id='38366', avg(finishing)=67.0, avg(acceleration)=69.0, avg(shot_power)=79.0),\n",
       " Row(player_api_id='103450', avg(finishing)=79.0, avg(acceleration)=93.0, avg(shot_power)=78.0),\n",
       " Row(player_api_id='72541', avg(finishing)=46.0, avg(acceleration)=79.0, avg(shot_power)=68.0),\n",
       " Row(player_api_id='450293', avg(finishing)=52.0, avg(acceleration)=83.0, avg(shot_power)=60.0),\n",
       " Row(player_api_id='33338', avg(finishing)=40.0, avg(acceleration)=73.0, avg(shot_power)=74.0),\n",
       " Row(player_api_id='410017', avg(finishing)=22.0, avg(acceleration)=48.0, avg(shot_power)=45.0),\n",
       " Row(player_api_id='18820', avg(finishing)=72.0, avg(acceleration)=76.0, avg(shot_power)=76.0),\n",
       " Row(player_api_id='47563', avg(finishing)=69.28571428571429, avg(acceleration)=83.0, avg(shot_power)=67.71428571428571),\n",
       " Row(player_api_id='15732', avg(finishing)=40.0, avg(acceleration)=55.0, avg(shot_power)=84.0),\n",
       " Row(player_api_id='94164', avg(finishing)=51.0, avg(acceleration)=74.0, avg(shot_power)=65.0),\n",
       " Row(player_api_id='38822', avg(finishing)=74.0, avg(acceleration)=53.0, avg(shot_power)=85.0),\n",
       " Row(player_api_id='363351', avg(finishing)=65.0, avg(acceleration)=69.66666666666667, avg(shot_power)=67.0),\n",
       " Row(player_api_id='166932', avg(finishing)=38.0, avg(acceleration)=64.0, avg(shot_power)=60.0),\n",
       " Row(player_api_id='528347', avg(finishing)=67.0, avg(acceleration)=91.0, avg(shot_power)=66.0),\n",
       " Row(player_api_id='200630', avg(finishing)=55.0, avg(acceleration)=92.0, avg(shot_power)=85.0),\n",
       " Row(player_api_id='213820', avg(finishing)=54.0, avg(acceleration)=66.0, avg(shot_power)=78.0),\n",
       " Row(player_api_id='266546', avg(finishing)=20.0, avg(acceleration)=64.0, avg(shot_power)=42.0),\n",
       " Row(player_api_id='427855', avg(finishing)=54.0, avg(acceleration)=66.0, avg(shot_power)=63.75),\n",
       " Row(player_api_id='209507', avg(finishing)=66.0, avg(acceleration)=75.0, avg(shot_power)=66.0),\n",
       " Row(player_api_id='212147', avg(finishing)=14.0, avg(acceleration)=38.0, avg(shot_power)=21.0),\n",
       " Row(player_api_id='29631', avg(finishing)=46.0, avg(acceleration)=75.0, avg(shot_power)=56.0),\n",
       " Row(player_api_id='501040', avg(finishing)=24.0, avg(acceleration)=67.0, avg(shot_power)=56.0),\n",
       " Row(player_api_id='179517', avg(finishing)=55.0, avg(acceleration)=68.0, avg(shot_power)=59.0),\n",
       " Row(player_api_id='167027', avg(finishing)=64.0, avg(acceleration)=73.0, avg(shot_power)=71.0),\n",
       " Row(player_api_id='28110', avg(finishing)=58.0, avg(acceleration)=72.0, avg(shot_power)=66.0),\n",
       " Row(player_api_id='26078', avg(finishing)=45.0, avg(acceleration)=63.0, avg(shot_power)=74.0),\n",
       " Row(player_api_id='27731', avg(finishing)=59.0, avg(acceleration)=66.0, avg(shot_power)=77.0),\n",
       " Row(player_api_id='670928', avg(finishing)=33.0, avg(acceleration)=60.0, avg(shot_power)=34.0),\n",
       " Row(player_api_id='129915', avg(finishing)=68.0, avg(acceleration)=75.0, avg(shot_power)=84.0),\n",
       " Row(player_api_id='409000', avg(finishing)=54.0, avg(acceleration)=58.0, avg(shot_power)=60.0),\n",
       " Row(player_api_id='36783', avg(finishing)=68.0, avg(acceleration)=69.0, avg(shot_power)=75.0),\n",
       " Row(player_api_id='357080', avg(finishing)=69.0, avg(acceleration)=77.0, avg(shot_power)=76.0),\n",
       " Row(player_api_id='37254', avg(finishing)=11.0, avg(acceleration)=43.0, avg(shot_power)=24.0),\n",
       " Row(player_api_id='108401', avg(finishing)=53.0, avg(acceleration)=55.0, avg(shot_power)=73.0),\n",
       " Row(player_api_id='71724', avg(finishing)=68.0, avg(acceleration)=83.0, avg(shot_power)=80.0),\n",
       " Row(player_api_id='690308', avg(finishing)=27.5, avg(acceleration)=69.5, avg(shot_power)=21.5),\n",
       " Row(player_api_id='504033', avg(finishing)=61.0, avg(acceleration)=64.0, avg(shot_power)=60.0),\n",
       " Row(player_api_id='406257', avg(finishing)=44.0, avg(acceleration)=87.0, avg(shot_power)=84.0),\n",
       " Row(player_api_id='38539', avg(finishing)=63.0, avg(acceleration)=69.0, avg(shot_power)=83.0),\n",
       " Row(player_api_id='45481', avg(finishing)=64.0, avg(acceleration)=52.0, avg(shot_power)=79.0),\n",
       " Row(player_api_id='577911', avg(finishing)=48.0, avg(acceleration)=55.0, avg(shot_power)=54.285714285714285),\n",
       " Row(player_api_id='165526', avg(finishing)=23.0, avg(acceleration)=50.0, avg(shot_power)=63.0),\n",
       " Row(player_api_id='31325', avg(finishing)=66.0, avg(acceleration)=61.666666666666664, avg(shot_power)=73.0),\n",
       " Row(player_api_id='41124', avg(finishing)=71.0, avg(acceleration)=65.0, avg(shot_power)=77.0),\n",
       " Row(player_api_id='32627', avg(finishing)=80.0, avg(acceleration)=69.0, avg(shot_power)=76.0),\n",
       " Row(player_api_id='14100', avg(finishing)=11.0, avg(acceleration)=32.0, avg(shot_power)=21.0),\n",
       " Row(player_api_id='128106', avg(finishing)=41.0, avg(acceleration)=70.0, avg(shot_power)=69.0),\n",
       " Row(player_api_id='276121', avg(finishing)=51.0, avg(acceleration)=79.0, avg(shot_power)=53.0),\n",
       " Row(player_api_id='155052', avg(finishing)=66.0, avg(acceleration)=81.0, avg(shot_power)=67.0),\n",
       " Row(player_api_id='149219', avg(finishing)=56.333333333333336, avg(acceleration)=77.0, avg(shot_power)=58.333333333333336),\n",
       " Row(player_api_id='115330', avg(finishing)=60.0, avg(acceleration)=89.0, avg(shot_power)=65.0),\n",
       " Row(player_api_id='24411', avg(finishing)=55.0, avg(acceleration)=64.0, avg(shot_power)=72.0),\n",
       " Row(player_api_id='244970', avg(finishing)=59.0, avg(acceleration)=81.0, avg(shot_power)=65.0),\n",
       " Row(player_api_id='290018', avg(finishing)=55.0, avg(acceleration)=74.0, avg(shot_power)=55.0),\n",
       " Row(player_api_id='243781', avg(finishing)=62.0, avg(acceleration)=62.0, avg(shot_power)=71.0),\n",
       " Row(player_api_id='17749', avg(finishing)=61.0, avg(acceleration)=65.0, avg(shot_power)=70.0),\n",
       " Row(player_api_id='47512', avg(finishing)=61.0, avg(acceleration)=73.0, avg(shot_power)=60.0),\n",
       " Row(player_api_id='574662', avg(finishing)=50.0, avg(acceleration)=63.0, avg(shot_power)=72.0),\n",
       " Row(player_api_id='93353', avg(finishing)=40.0, avg(acceleration)=44.0, avg(shot_power)=58.0),\n",
       " Row(player_api_id='38148', avg(finishing)=32.0, avg(acceleration)=69.0, avg(shot_power)=51.0),\n",
       " Row(player_api_id='660130', avg(finishing)=28.0, avg(acceleration)=73.0, avg(shot_power)=33.0),\n",
       " Row(player_api_id='172446', avg(finishing)=76.0, avg(acceleration)=85.0, avg(shot_power)=74.33333333333333),\n",
       " Row(player_api_id='661897', avg(finishing)=38.0, avg(acceleration)=80.0, avg(shot_power)=59.0),\n",
       " Row(player_api_id='94043', avg(finishing)=23.0, avg(acceleration)=64.0, avg(shot_power)=51.0),\n",
       " Row(player_api_id='182836', avg(finishing)=58.0, avg(acceleration)=92.0, avg(shot_power)=68.0),\n",
       " Row(player_api_id='114216', avg(finishing)=51.0, avg(acceleration)=73.0, avg(shot_power)=62.0),\n",
       " Row(player_api_id='433627', avg(finishing)=24.0, avg(acceleration)=63.0, avg(shot_power)=34.333333333333336),\n",
       " Row(player_api_id='92532', avg(finishing)=32.0, avg(acceleration)=75.0, avg(shot_power)=64.0),\n",
       " Row(player_api_id='154235', avg(finishing)=63.0, avg(acceleration)=85.33333333333333, avg(shot_power)=83.0),\n",
       " Row(player_api_id='45831', avg(finishing)=41.0, avg(acceleration)=64.0, avg(shot_power)=56.0),\n",
       " Row(player_api_id='317717', avg(finishing)=49.0, avg(acceleration)=83.0, avg(shot_power)=74.0),\n",
       " Row(player_api_id='690290', avg(finishing)=34.0, avg(acceleration)=67.0, avg(shot_power)=60.0),\n",
       " Row(player_api_id='150328', avg(finishing)=44.0, avg(acceleration)=64.0, avg(shot_power)=44.0),\n",
       " Row(player_api_id='438456', avg(finishing)=50.4, avg(acceleration)=69.0, avg(shot_power)=70.0),\n",
       " Row(player_api_id='282529', avg(finishing)=73.0, avg(acceleration)=68.0, avg(shot_power)=74.0),\n",
       " Row(player_api_id='604345', avg(finishing)=39.0, avg(acceleration)=63.5, avg(shot_power)=54.0),\n",
       " Row(player_api_id='281763', avg(finishing)=30.0, avg(acceleration)=68.0, avg(shot_power)=43.0),\n",
       " Row(player_api_id='172896', avg(finishing)=51.0, avg(acceleration)=62.0, avg(shot_power)=61.0),\n",
       " Row(player_api_id='181911', avg(finishing)=10.0, avg(acceleration)=53.0, avg(shot_power)=23.0),\n",
       " Row(player_api_id='17233', avg(finishing)=67.33333333333333, avg(acceleration)=67.66666666666667, avg(shot_power)=69.0),\n",
       " Row(player_api_id='173955', avg(finishing)=72.0, avg(acceleration)=83.25, avg(shot_power)=76.0),\n",
       " Row(player_api_id='667963', avg(finishing)=53.0, avg(acceleration)=65.0, avg(shot_power)=67.0),\n",
       " Row(player_api_id='31304', avg(finishing)=61.0, avg(acceleration)=81.0, avg(shot_power)=74.0),\n",
       " Row(player_api_id='254455', avg(finishing)=46.0, avg(acceleration)=72.33333333333333, avg(shot_power)=76.0),\n",
       " Row(player_api_id='38098', avg(finishing)=84.0, avg(acceleration)=71.0, avg(shot_power)=84.0),\n",
       " Row(player_api_id='46509', avg(finishing)=75.0, avg(acceleration)=88.0, avg(shot_power)=87.0),\n",
       " Row(player_api_id='49543', avg(finishing)=25.0, avg(acceleration)=67.5, avg(shot_power)=71.0),\n",
       " Row(player_api_id='71605', avg(finishing)=79.0, avg(acceleration)=73.0, avg(shot_power)=78.0),\n",
       " Row(player_api_id='209362', avg(finishing)=74.0, avg(acceleration)=80.0, avg(shot_power)=85.0),\n",
       " Row(player_api_id='303179', avg(finishing)=48.0, avg(acceleration)=79.33333333333333, avg(shot_power)=64.0),\n",
       " Row(player_api_id='237562', avg(finishing)=11.0, avg(acceleration)=14.0, avg(shot_power)=20.0),\n",
       " Row(player_api_id='37459', avg(finishing)=72.0, avg(acceleration)=79.0, avg(shot_power)=71.0),\n",
       " Row(player_api_id='166717', avg(finishing)=40.0, avg(acceleration)=67.28571428571429, avg(shot_power)=54.57142857142857),\n",
       " Row(player_api_id='34036', avg(finishing)=58.0, avg(acceleration)=78.0, avg(shot_power)=79.0),\n",
       " Row(player_api_id='157630', avg(finishing)=23.0, avg(acceleration)=55.0, avg(shot_power)=43.0),\n",
       " Row(player_api_id='164684', avg(finishing)=85.0, avg(acceleration)=78.0, avg(shot_power)=86.0),\n",
       " Row(player_api_id='47564', avg(finishing)=63.0, avg(acceleration)=77.0, avg(shot_power)=75.0),\n",
       " Row(player_api_id='532741', avg(finishing)=69.0, avg(acceleration)=79.0, avg(shot_power)=65.0),\n",
       " Row(player_api_id='286119', avg(finishing)=79.85714285714286, avg(acceleration)=91.0, avg(shot_power)=83.42857142857143),\n",
       " Row(player_api_id='33312', avg(finishing)=50.666666666666664, avg(acceleration)=70.0, avg(shot_power)=57.0),\n",
       " Row(player_api_id='25925', avg(finishing)=48.0, avg(acceleration)=77.0, avg(shot_power)=65.0),\n",
       " Row(player_api_id='155066', avg(finishing)=71.66666666666667, avg(acceleration)=91.0, avg(shot_power)=83.0),\n",
       " Row(player_api_id='306522', avg(finishing)=56.0, avg(acceleration)=66.0, avg(shot_power)=57.0),\n",
       " Row(player_api_id='566420', avg(finishing)=48.0, avg(acceleration)=79.0, avg(shot_power)=46.0),\n",
       " Row(player_api_id='22337', avg(finishing)=21.0, avg(acceleration)=68.25, avg(shot_power)=63.0),\n",
       " Row(player_api_id='39549', avg(finishing)=30.0, avg(acceleration)=75.33333333333333, avg(shot_power)=69.0),\n",
       " Row(player_api_id='150735', avg(finishing)=46.0, avg(acceleration)=66.0, avg(shot_power)=55.0),\n",
       " Row(player_api_id='202650', avg(finishing)=42.0, avg(acceleration)=75.0, avg(shot_power)=62.0),\n",
       " Row(player_api_id='25947', avg(finishing)=13.0, avg(acceleration)=53.0, avg(shot_power)=13.0),\n",
       " Row(player_api_id='46645', avg(finishing)=32.0, avg(acceleration)=64.0, avg(shot_power)=53.0),\n",
       " Row(player_api_id='140963', avg(finishing)=25.0, avg(acceleration)=66.0, avg(shot_power)=28.0),\n",
       " Row(player_api_id='144999', avg(finishing)=22.0, avg(acceleration)=69.0, avg(shot_power)=70.0),\n",
       " Row(player_api_id='38239', avg(finishing)=70.0, avg(acceleration)=85.0, avg(shot_power)=83.0),\n",
       " Row(player_api_id='243465', avg(finishing)=22.0, avg(acceleration)=74.0, avg(shot_power)=42.0),\n",
       " Row(player_api_id='27866', avg(finishing)=72.0, avg(acceleration)=82.0, avg(shot_power)=75.0),\n",
       " Row(player_api_id='46243', avg(finishing)=43.0, avg(acceleration)=62.0, avg(shot_power)=54.0),\n",
       " Row(player_api_id='172489', avg(finishing)=11.0, avg(acceleration)=31.0, avg(shot_power)=15.0),\n",
       " Row(player_api_id='27534', avg(finishing)=46.0, avg(acceleration)=59.5, avg(shot_power)=66.0),\n",
       " Row(player_api_id='150268', avg(finishing)=41.0, avg(acceleration)=67.6, avg(shot_power)=65.2),\n",
       " Row(player_api_id='38834', avg(finishing)=30.0, avg(acceleration)=74.0, avg(shot_power)=66.0),\n",
       " Row(player_api_id='317822', avg(finishing)=41.0, avg(acceleration)=69.0, avg(shot_power)=61.0),\n",
       " Row(player_api_id='41194', avg(finishing)=75.0, avg(acceleration)=51.0, avg(shot_power)=74.0),\n",
       " Row(player_api_id='187266', avg(finishing)=82.0, avg(acceleration)=71.0, avg(shot_power)=83.0),\n",
       " Row(player_api_id='130155', avg(finishing)=48.0, avg(acceleration)=79.0, avg(shot_power)=73.0),\n",
       " Row(player_api_id='26423', avg(finishing)=43.0, avg(acceleration)=66.0, avg(shot_power)=61.0),\n",
       " Row(player_api_id='95082', avg(finishing)=77.0, avg(acceleration)=77.0, avg(shot_power)=77.0),\n",
       " Row(player_api_id='232152', avg(finishing)=39.0, avg(acceleration)=70.0, avg(shot_power)=61.0),\n",
       " Row(player_api_id='183039', avg(finishing)=43.0, avg(acceleration)=72.0, avg(shot_power)=70.0),\n",
       " Row(player_api_id='166963', avg(finishing)=61.0, avg(acceleration)=75.0, avg(shot_power)=73.0),\n",
       " Row(player_api_id='73574', avg(finishing)=55.0, avg(acceleration)=68.57142857142857, avg(shot_power)=75.0),\n",
       " Row(player_api_id='213682', avg(finishing)=63.333333333333336, avg(acceleration)=72.0, avg(shot_power)=70.0),\n",
       " Row(player_api_id='477473', avg(finishing)=29.0, avg(acceleration)=80.0, avg(shot_power)=36.0),\n",
       " Row(player_api_id='156007', avg(finishing)=35.0, avg(acceleration)=76.0, avg(shot_power)=65.0),\n",
       " Row(player_api_id='197352', avg(finishing)=20.0, avg(acceleration)=79.0, avg(shot_power)=62.0),\n",
       " Row(player_api_id='96616', avg(finishing)=37.75, avg(acceleration)=79.0, avg(shot_power)=71.0),\n",
       " Row(player_api_id='195207', avg(finishing)=48.0, avg(acceleration)=64.0, avg(shot_power)=83.0),\n",
       " Row(player_api_id='30964', avg(finishing)=37.0, avg(acceleration)=50.0, avg(shot_power)=63.0),\n",
       " Row(player_api_id='114769', avg(finishing)=37.0, avg(acceleration)=54.0, avg(shot_power)=30.0),\n",
       " Row(player_api_id='34763', avg(finishing)=70.0, avg(acceleration)=52.0, avg(shot_power)=70.0),\n",
       " Row(player_api_id='107987', avg(finishing)=63.0, avg(acceleration)=77.0, avg(shot_power)=71.0),\n",
       " Row(player_api_id='322354', avg(finishing)=38.0, avg(acceleration)=77.0, avg(shot_power)=66.0),\n",
       " Row(player_api_id='22125', avg(finishing)=12.0, avg(acceleration)=38.0, avg(shot_power)=18.0),\n",
       " Row(player_api_id='33272', avg(finishing)=12.0, avg(acceleration)=32.0, avg(shot_power)=19.0),\n",
       " Row(player_api_id='614951', avg(finishing)=27.0, avg(acceleration)=65.0, avg(shot_power)=57.0),\n",
       " Row(player_api_id='93358', avg(finishing)=19.0, avg(acceleration)=55.0, avg(shot_power)=60.0),\n",
       " Row(player_api_id='275457', avg(finishing)=47.0, avg(acceleration)=75.5, avg(shot_power)=61.0),\n",
       " Row(player_api_id='659742', avg(finishing)=45.0, avg(acceleration)=65.0, avg(shot_power)=55.0),\n",
       " Row(player_api_id='30962', avg(finishing)=60.0, avg(acceleration)=78.0, avg(shot_power)=77.0),\n",
       " Row(player_api_id='300532', avg(finishing)=14.0, avg(acceleration)=45.5, avg(shot_power)=19.0),\n",
       " Row(player_api_id='150083', avg(finishing)=68.0, avg(acceleration)=51.0, avg(shot_power)=77.0),\n",
       " Row(player_api_id='213737', avg(finishing)=62.5, avg(acceleration)=62.5, avg(shot_power)=66.0),\n",
       " Row(player_api_id='33451', avg(finishing)=40.0, avg(acceleration)=25.0, avg(shot_power)=61.0),\n",
       " Row(player_api_id='10637', avg(finishing)=14.0, avg(acceleration)=36.0, avg(shot_power)=26.0),\n",
       " Row(player_api_id='186975', avg(finishing)=72.0, avg(acceleration)=63.0, avg(shot_power)=75.0),\n",
       " Row(player_api_id='77727', avg(finishing)=64.0, avg(acceleration)=74.0, avg(shot_power)=75.0),\n",
       " Row(player_api_id='500791', avg(finishing)=72.0, avg(acceleration)=64.0, avg(shot_power)=74.0),\n",
       " Row(player_api_id='179522', avg(finishing)=24.0, avg(acceleration)=78.0, avg(shot_power)=48.0),\n",
       " Row(player_api_id='70891', avg(finishing)=48.0, avg(acceleration)=53.0, avg(shot_power)=69.0),\n",
       " Row(player_api_id='169709', avg(finishing)=59.0, avg(acceleration)=72.75, avg(shot_power)=65.0),\n",
       " Row(player_api_id='497753', avg(finishing)=63.0, avg(acceleration)=82.0, avg(shot_power)=57.0),\n",
       " Row(player_api_id='118730', avg(finishing)=24.0, avg(acceleration)=70.5, avg(shot_power)=74.0),\n",
       " Row(player_api_id='244136', avg(finishing)=63.0, avg(acceleration)=83.0, avg(shot_power)=61.0),\n",
       " Row(player_api_id='632488', avg(finishing)=40.0, avg(acceleration)=60.0, avg(shot_power)=57.25),\n",
       " Row(player_api_id='369742', avg(finishing)=38.0, avg(acceleration)=62.0, avg(shot_power)=63.0),\n",
       " Row(player_api_id='173389', avg(finishing)=53.0, avg(acceleration)=74.0, avg(shot_power)=78.0),\n",
       " Row(player_api_id='423024', avg(finishing)=64.0, avg(acceleration)=91.0, avg(shot_power)=70.0),\n",
       " Row(player_api_id='541557', avg(finishing)=75.0, avg(acceleration)=87.0, avg(shot_power)=72.0),\n",
       " Row(player_api_id='69229', avg(finishing)=73.25, avg(acceleration)=66.0, avg(shot_power)=72.5),\n",
       " Row(player_api_id='155273', avg(finishing)=41.0, avg(acceleration)=76.0, avg(shot_power)=67.0),\n",
       " Row(player_api_id='556029', avg(finishing)=61.0, avg(acceleration)=85.0, avg(shot_power)=65.0),\n",
       " Row(player_api_id='41198', avg(finishing)=53.0, avg(acceleration)=52.0, avg(shot_power)=71.0),\n",
       " Row(player_api_id='19533', avg(finishing)=88.5, avg(acceleration)=91.0, avg(shot_power)=77.5),\n",
       " Row(player_api_id='21613', avg(finishing)=82.0, avg(acceleration)=69.0, avg(shot_power)=76.0),\n",
       " Row(player_api_id='281628', avg(finishing)=69.0, avg(acceleration)=85.0, avg(shot_power)=72.0),\n",
       " Row(player_api_id='31453', avg(finishing)=34.0, avg(acceleration)=52.0, avg(shot_power)=74.0),\n",
       " Row(player_api_id='97762', avg(finishing)=59.0, avg(acceleration)=86.0, avg(shot_power)=54.0),\n",
       " Row(player_api_id='94307', avg(finishing)=58.0, avg(acceleration)=76.0, avg(shot_power)=67.0),\n",
       " Row(player_api_id='33744', avg(finishing)=66.0, avg(acceleration)=68.0, avg(shot_power)=77.0),\n",
       " Row(player_api_id='41093', avg(finishing)=63.0, avg(acceleration)=73.0, avg(shot_power)=66.0),\n",
       " Row(player_api_id='155122', avg(finishing)=63.0, avg(acceleration)=67.0, avg(shot_power)=62.0),\n",
       " Row(player_api_id='184360', avg(finishing)=74.0, avg(acceleration)=84.0, avg(shot_power)=78.0),\n",
       " Row(player_api_id='33100', avg(finishing)=62.0, avg(acceleration)=73.0, avg(shot_power)=65.0),\n",
       " Row(player_api_id='32907', avg(finishing)=67.0, avg(acceleration)=74.0, avg(shot_power)=73.0),\n",
       " Row(player_api_id='287226', avg(finishing)=56.0, avg(acceleration)=76.0, avg(shot_power)=68.0),\n",
       " Row(player_api_id='30906', avg(finishing)=34.0, avg(acceleration)=55.0, avg(shot_power)=64.0),\n",
       " Row(player_api_id='39304', avg(finishing)=22.0, avg(acceleration)=34.0, avg(shot_power)=69.0),\n",
       " Row(player_api_id='181262', avg(finishing)=48.0, avg(acceleration)=82.0, avg(shot_power)=66.0),\n",
       " Row(player_api_id='206901', avg(finishing)=66.33333333333333, avg(acceleration)=73.0, avg(shot_power)=62.0),\n",
       " Row(player_api_id='24549', avg(finishing)=82.66666666666667, avg(acceleration)=67.83333333333333, avg(shot_power)=68.0),\n",
       " Row(player_api_id='213922', avg(finishing)=62.0, avg(acceleration)=67.0, avg(shot_power)=76.0),\n",
       " Row(player_api_id='268207', avg(finishing)=47.0, avg(acceleration)=68.0, avg(shot_power)=56.0),\n",
       " Row(player_api_id='469700', avg(finishing)=19.0, avg(acceleration)=65.0, avg(shot_power)=44.0),\n",
       " Row(player_api_id='470868', avg(finishing)=52.0, avg(acceleration)=79.0, avg(shot_power)=69.0),\n",
       " Row(player_api_id='67300', avg(finishing)=55.0, avg(acceleration)=67.0, avg(shot_power)=72.0),\n",
       " Row(player_api_id='181297', avg(finishing)=59.0, avg(acceleration)=85.0, avg(shot_power)=74.0),\n",
       " Row(player_api_id='692984', avg(finishing)=68.15384615384616, avg(acceleration)=78.07692307692308, avg(shot_power)=67.3076923076923),\n",
       " Row(player_api_id='288591', avg(finishing)=60.0, avg(acceleration)=80.0, avg(shot_power)=47.0),\n",
       " Row(player_api_id='664970', avg(finishing)=31.0, avg(acceleration)=47.0, avg(shot_power)=46.0),\n",
       " Row(player_api_id='89251', avg(finishing)=64.33333333333333, avg(acceleration)=68.33333333333333, avg(shot_power)=67.0),\n",
       " Row(player_api_id='120919', avg(finishing)=76.0, avg(acceleration)=80.0, avg(shot_power)=78.0),\n",
       " Row(player_api_id='98382', avg(finishing)=47.0, avg(acceleration)=62.0, avg(shot_power)=76.0),\n",
       " Row(player_api_id='23007', avg(finishing)=22.0, avg(acceleration)=66.0, avg(shot_power)=31.0),\n",
       " Row(player_api_id='142282', avg(finishing)=35.0, avg(acceleration)=77.0, avg(shot_power)=66.0),\n",
       " Row(player_api_id='69374', avg(finishing)=29.0, avg(acceleration)=27.0, avg(shot_power)=61.0),\n",
       " Row(player_api_id='25563', avg(finishing)=11.0, avg(acceleration)=44.0, avg(shot_power)=22.0),\n",
       " Row(player_api_id='254472', avg(finishing)=11.0, avg(acceleration)=44.0, avg(shot_power)=25.0),\n",
       " Row(player_api_id='42691', avg(finishing)=13.0, avg(acceleration)=34.0, avg(shot_power)=21.0),\n",
       " Row(player_api_id='186805', avg(finishing)=30.0, avg(acceleration)=63.0, avg(shot_power)=56.0),\n",
       " Row(player_api_id='46104', avg(finishing)=74.0, avg(acceleration)=92.0, avg(shot_power)=78.0),\n",
       " Row(player_api_id='46079', avg(finishing)=18.0, avg(acceleration)=56.0, avg(shot_power)=50.0),\n",
       " Row(player_api_id='187669', avg(finishing)=70.0, avg(acceleration)=74.0, avg(shot_power)=74.0),\n",
       " Row(player_api_id='37273', avg(finishing)=69.0, avg(acceleration)=67.0, avg(shot_power)=74.0),\n",
       " Row(player_api_id='25597', avg(finishing)=71.0, avg(acceleration)=66.0, avg(shot_power)=76.0),\n",
       " Row(player_api_id='258873', avg(finishing)=39.0, avg(acceleration)=82.66666666666667, avg(shot_power)=77.66666666666667),\n",
       " Row(player_api_id='279489', avg(finishing)=23.0, avg(acceleration)=65.0, avg(shot_power)=40.0),\n",
       " Row(player_api_id='215766', avg(finishing)=64.0, avg(acceleration)=91.0, avg(shot_power)=83.0),\n",
       " Row(player_api_id='27671', avg(finishing)=58.0, avg(acceleration)=68.33333333333333, avg(shot_power)=73.0),\n",
       " Row(player_api_id='45316', avg(finishing)=41.0, avg(acceleration)=81.0, avg(shot_power)=66.0),\n",
       " Row(player_api_id='667787', avg(finishing)=38.0, avg(acceleration)=65.0, avg(shot_power)=60.0),\n",
       " Row(player_api_id='138159', avg(finishing)=12.0, avg(acceleration)=28.0, avg(shot_power)=15.0),\n",
       " Row(player_api_id='38848', avg(finishing)=76.0, avg(acceleration)=69.0, avg(shot_power)=74.0),\n",
       " Row(player_api_id='276791', avg(finishing)=65.44444444444444, avg(acceleration)=76.0, avg(shot_power)=71.0),\n",
       " Row(player_api_id='30509', avg(finishing)=49.0, avg(acceleration)=72.0, avg(shot_power)=66.0),\n",
       " Row(player_api_id='69111', avg(finishing)=63.0, avg(acceleration)=56.0, avg(shot_power)=62.0),\n",
       " Row(player_api_id='190511', avg(finishing)=78.0, avg(acceleration)=77.14285714285714, avg(shot_power)=74.0),\n",
       " Row(player_api_id='40022', avg(finishing)=48.0, avg(acceleration)=65.0, avg(shot_power)=62.0),\n",
       " Row(player_api_id='40187', avg(finishing)=76.0, avg(acceleration)=79.5, avg(shot_power)=85.0),\n",
       " Row(player_api_id='94280', avg(finishing)=26.0, avg(acceleration)=49.0, avg(shot_power)=52.0),\n",
       " Row(player_api_id='289222', avg(finishing)=64.0, avg(acceleration)=73.0, avg(shot_power)=72.0),\n",
       " Row(player_api_id='119305', avg(finishing)=70.0, avg(acceleration)=63.0, avg(shot_power)=67.0),\n",
       " Row(player_api_id='264743', avg(finishing)=59.75, avg(acceleration)=86.0, avg(shot_power)=61.75),\n",
       " Row(player_api_id='280485', avg(finishing)=27.0, avg(acceleration)=59.0, avg(shot_power)=55.0),\n",
       " Row(player_api_id='150731', avg(finishing)=27.0, avg(acceleration)=32.0, avg(shot_power)=57.0),\n",
       " Row(player_api_id='42650', avg(finishing)=41.0, avg(acceleration)=63.0, avg(shot_power)=74.0),\n",
       " Row(player_api_id='45462', avg(finishing)=60.0, avg(acceleration)=60.0, avg(shot_power)=72.0),\n",
       " Row(player_api_id='45701', avg(finishing)=54.0, avg(acceleration)=65.0, avg(shot_power)=61.0),\n",
       " Row(player_api_id='434404', avg(finishing)=56.0, avg(acceleration)=68.0, avg(shot_power)=57.0),\n",
       " Row(player_api_id='42534', avg(finishing)=61.0, avg(acceleration)=55.0, avg(shot_power)=58.0),\n",
       " Row(player_api_id='174472', avg(finishing)=78.0, avg(acceleration)=86.0, avg(shot_power)=75.0),\n",
       " Row(player_api_id='375732', avg(finishing)=63.0, avg(acceleration)=76.0, avg(shot_power)=63.75),\n",
       " Row(player_api_id='242872', avg(finishing)=34.0, avg(acceleration)=74.0, avg(shot_power)=48.0),\n",
       " Row(player_api_id='35022', avg(finishing)=40.0, avg(acceleration)=69.0, avg(shot_power)=80.0),\n",
       " Row(player_api_id='717557', avg(finishing)=50.0, avg(acceleration)=82.0, avg(shot_power)=44.0),\n",
       " Row(player_api_id='49866', avg(finishing)=27.0, avg(acceleration)=74.0, avg(shot_power)=75.0),\n",
       " Row(player_api_id='213688', avg(finishing)=24.0, avg(acceleration)=84.0, avg(shot_power)=83.0),\n",
       " Row(player_api_id='106559', avg(finishing)=62.0, avg(acceleration)=91.0, avg(shot_power)=68.0),\n",
       " Row(player_api_id='263260', avg(finishing)=39.0, avg(acceleration)=67.0, avg(shot_power)=58.0),\n",
       " Row(player_api_id='26374', avg(finishing)=74.0, avg(acceleration)=74.5, avg(shot_power)=74.5),\n",
       " Row(player_api_id='46621', avg(finishing)=64.0, avg(acceleration)=79.0, avg(shot_power)=72.0),\n",
       " Row(player_api_id='202108', avg(finishing)=29.0, avg(acceleration)=59.0, avg(shot_power)=71.0),\n",
       " Row(player_api_id='298933', avg(finishing)=36.0, avg(acceleration)=64.0, avg(shot_power)=76.0),\n",
       " Row(player_api_id='182849', avg(finishing)=46.0, avg(acceleration)=63.0, avg(shot_power)=65.0),\n",
       " Row(player_api_id='199833', avg(finishing)=60.0, avg(acceleration)=72.0, avg(shot_power)=78.0),\n",
       " Row(player_api_id='181866', avg(finishing)=62.0, avg(acceleration)=72.0, avg(shot_power)=64.0),\n",
       " Row(player_api_id='114499', avg(finishing)=67.4, avg(acceleration)=69.0, avg(shot_power)=76.0),\n",
       " Row(player_api_id='610273', avg(finishing)=65.0, avg(acceleration)=85.0, avg(shot_power)=67.0),\n",
       " Row(player_api_id='642618', avg(finishing)=61.0, avg(acceleration)=75.5, avg(shot_power)=61.0),\n",
       " Row(player_api_id='681965', avg(finishing)=48.0, avg(acceleration)=58.0, avg(shot_power)=59.0),\n",
       " Row(player_api_id='79737', avg(finishing)=36.0, avg(acceleration)=77.0, avg(shot_power)=62.0),\n",
       " Row(player_api_id='107132', avg(finishing)=52.0, avg(acceleration)=74.0, avg(shot_power)=71.0),\n",
       " Row(player_api_id='268273', avg(finishing)=23.0, avg(acceleration)=42.0, avg(shot_power)=66.0),\n",
       " Row(player_api_id='248169', avg(finishing)=19.0, avg(acceleration)=69.0, avg(shot_power)=58.0),\n",
       " Row(player_api_id='28081', avg(finishing)=38.0, avg(acceleration)=81.0, avg(shot_power)=68.0),\n",
       " Row(player_api_id='177720', avg(finishing)=79.0, avg(acceleration)=69.0, avg(shot_power)=85.0),\n",
       " Row(player_api_id='396884', avg(finishing)=41.0, avg(acceleration)=50.0, avg(shot_power)=68.0),\n",
       " Row(player_api_id='26368', avg(finishing)=31.0, avg(acceleration)=65.2, avg(shot_power)=58.0),\n",
       " Row(player_api_id='251384', avg(finishing)=54.0, avg(acceleration)=70.0, avg(shot_power)=76.0),\n",
       " Row(player_api_id='11555', avg(finishing)=71.0, avg(acceleration)=50.0, avg(shot_power)=81.0),\n",
       " Row(player_api_id='746419', avg(finishing)=28.0, avg(acceleration)=77.0, avg(shot_power)=29.0),\n",
       " Row(player_api_id='45440', avg(finishing)=49.0, avg(acceleration)=73.0, avg(shot_power)=63.0),\n",
       " Row(player_api_id='190872', avg(finishing)=73.8, avg(acceleration)=76.0, avg(shot_power)=77.0),\n",
       " Row(player_api_id='112204', avg(finishing)=65.0, avg(acceleration)=76.0, avg(shot_power)=64.0),\n",
       " Row(player_api_id='167151', avg(finishing)=35.0, avg(acceleration)=68.0, avg(shot_power)=48.0),\n",
       " Row(player_api_id='210844', avg(finishing)=68.0, avg(acceleration)=55.0, avg(shot_power)=80.0),\n",
       " Row(player_api_id='37762', avg(finishing)=60.0, avg(acceleration)=69.0, avg(shot_power)=86.0),\n",
       " Row(player_api_id='189977', avg(finishing)=52.0, avg(acceleration)=69.0, avg(shot_power)=62.0),\n",
       " Row(player_api_id='37449', avg(finishing)=59.0, avg(acceleration)=49.0, avg(shot_power)=82.0),\n",
       " Row(player_api_id='179891', avg(finishing)=21.0, avg(acceleration)=69.0, avg(shot_power)=44.0),\n",
       " Row(player_api_id='169200', avg(finishing)=82.0, avg(acceleration)=76.0, avg(shot_power)=84.0),\n",
       " Row(player_api_id='354491', avg(finishing)=71.75, avg(acceleration)=67.0, avg(shot_power)=66.0),\n",
       " Row(player_api_id='298449', avg(finishing)=57.0, avg(acceleration)=85.0, avg(shot_power)=64.0),\n",
       " Row(player_api_id='23787', avg(finishing)=49.0, avg(acceleration)=68.0, avg(shot_power)=52.0),\n",
       " Row(player_api_id='176831', avg(finishing)=73.0, avg(acceleration)=66.0, avg(shot_power)=73.66666666666667),\n",
       " Row(player_api_id='72735', avg(finishing)=80.5, avg(acceleration)=90.25, avg(shot_power)=80.0),\n",
       " Row(player_api_id='303334', avg(finishing)=67.0, avg(acceleration)=76.0, avg(shot_power)=77.0),\n",
       " Row(player_api_id='638089', avg(finishing)=21.0, avg(acceleration)=54.0, avg(shot_power)=37.0),\n",
       " Row(player_api_id='13471', avg(finishing)=13.0, avg(acceleration)=56.0, avg(shot_power)=22.0),\n",
       " Row(player_api_id='18945', avg(finishing)=13.0, avg(acceleration)=69.0, avg(shot_power)=78.0),\n",
       " Row(player_api_id='117545', avg(finishing)=22.0, avg(acceleration)=53.0, avg(shot_power)=52.0),\n",
       " Row(player_api_id='35725', avg(finishing)=65.0, avg(acceleration)=64.0, avg(shot_power)=68.0),\n",
       " Row(player_api_id='214953', avg(finishing)=50.0, avg(acceleration)=72.0, avg(shot_power)=63.0),\n",
       " Row(player_api_id='52243', avg(finishing)=48.625, avg(acceleration)=75.0, avg(shot_power)=75.5),\n",
       " Row(player_api_id='128392', avg(finishing)=84.0, avg(acceleration)=52.0, avg(shot_power)=89.0),\n",
       " Row(player_api_id='192775', avg(finishing)=64.0, avg(acceleration)=77.0, avg(shot_power)=62.0),\n",
       " Row(player_api_id='239253', avg(finishing)=48.5, avg(acceleration)=75.0, avg(shot_power)=55.0),\n",
       " Row(player_api_id='196386', avg(finishing)=68.0, avg(acceleration)=89.0, avg(shot_power)=77.0),\n",
       " Row(player_api_id='23678', avg(finishing)=55.666666666666664, avg(acceleration)=68.0, avg(shot_power)=68.0),\n",
       " Row(player_api_id='23866', avg(finishing)=71.0, avg(acceleration)=71.0, avg(shot_power)=61.0),\n",
       " Row(player_api_id='612212', avg(finishing)=34.5, avg(acceleration)=68.5, avg(shot_power)=59.0),\n",
       " Row(player_api_id='601783', avg(finishing)=66.0, avg(acceleration)=54.0, avg(shot_power)=62.0),\n",
       " Row(player_api_id='104045', avg(finishing)=86.0, avg(acceleration)=54.0, avg(shot_power)=84.0),\n",
       " Row(player_api_id='467467', avg(finishing)=36.0, avg(acceleration)=75.0, avg(shot_power)=64.0),\n",
       " Row(player_api_id='39599', avg(finishing)=17.0, avg(acceleration)=55.0, avg(shot_power)=20.0),\n",
       " Row(player_api_id='315460', avg(finishing)=33.0, avg(acceleration)=69.0, avg(shot_power)=58.857142857142854),\n",
       " Row(player_api_id='18673', avg(finishing)=22.0, avg(acceleration)=50.0, avg(shot_power)=50.0),\n",
       " Row(player_api_id='31037', avg(finishing)=42.0, avg(acceleration)=60.0, avg(shot_power)=69.0),\n",
       " Row(player_api_id='154259', avg(finishing)=55.0, avg(acceleration)=80.0, avg(shot_power)=66.0),\n",
       " Row(player_api_id='141161', avg(finishing)=76.5, avg(acceleration)=67.25, avg(shot_power)=85.0),\n",
       " Row(player_api_id='122048', avg(finishing)=58.0, avg(acceleration)=81.0, avg(shot_power)=67.0),\n",
       " Row(player_api_id='24845', avg(finishing)=63.0, avg(acceleration)=33.0, avg(shot_power)=69.0),\n",
       " Row(player_api_id='41350', avg(finishing)=52.0, avg(acceleration)=77.0, avg(shot_power)=73.0),\n",
       " Row(player_api_id='24536', avg(finishing)=46.166666666666664, avg(acceleration)=74.0, avg(shot_power)=71.83333333333333),\n",
       " Row(player_api_id='78511', avg(finishing)=43.0, avg(acceleration)=78.0, avg(shot_power)=62.0),\n",
       " ...]"
      ]
     },
     "execution_count": 29,
     "metadata": {},
     "output_type": "execute_result"
    }
   ],
   "source": [
    "pa_striker_2016.collect()"
   ]
  },
  {
   "cell_type": "code",
   "execution_count": 30,
   "metadata": {},
   "outputs": [],
   "source": [
    "pa_striker_2016=pa_striker_2016.withColumnRenamed(\"avg(finishing)\",\"finishing\")\\\n",
    "                               .withColumnRenamed(\"avg(shot_power)\",\"shot_power\")\\\n",
    "                               .withColumnRenamed(\"avg(acceleration)\",\"acceleration\")"
   ]
  },
  {
   "cell_type": "code",
   "execution_count": 31,
   "metadata": {},
   "outputs": [
    {
     "name": "stdout",
     "output_type": "stream",
     "text": [
      "+-------------+-----------------+-----------------+----------+\n",
      "|player_api_id|        finishing|     acceleration|shot_power|\n",
      "+-------------+-----------------+-----------------+----------+\n",
      "|       309726|75.44444444444444|74.11111111111111|      76.0|\n",
      "|        26112|             53.0|             51.0|      76.0|\n",
      "|        38433|            68.25|             74.0|      74.0|\n",
      "|       295060|             25.0|             62.0|      40.0|\n",
      "|       161396|             29.0|             72.0|      69.0|\n",
      "|        37774|             61.0|             64.0|      68.0|\n",
      "|        41157|             81.0|             87.0|      80.0|\n",
      "|        40740|             58.0|             73.5|      75.0|\n",
      "|        31432|             14.0|             59.0|      65.0|\n",
      "|       109653|             62.0|             65.0|      83.5|\n",
      "+-------------+-----------------+-----------------+----------+\n",
      "only showing top 10 rows\n",
      "\n"
     ]
    }
   ],
   "source": [
    "pa_striker_2016.show(10)"
   ]
  },
  {
   "cell_type": "code",
   "execution_count": 32,
   "metadata": {},
   "outputs": [],
   "source": [
    "weight_finishing=1\n",
    "weight_shot_power=2\n",
    "weight_acceleration=1\n",
    "\n",
    "total_weight=weight_finishing+weight_shot_power+weight_acceleration"
   ]
  },
  {
   "cell_type": "code",
   "execution_count": 33,
   "metadata": {},
   "outputs": [],
   "source": [
    "strikers=pa_striker_2016.withColumn(\"stiker_grade\",(pa_striker_2016.finishing* weight_finishing+ \\\n",
    "                                                   pa_striker_2016.shot_power* weight_shot_power+ \\\n",
    "                                                    pa_striker_2016.acceleration* weight_acceleration\n",
    "                                                   )/total_weight)"
   ]
  },
  {
   "cell_type": "code",
   "execution_count": 34,
   "metadata": {},
   "outputs": [
    {
     "data": {
      "text/plain": [
       "['player_api_id', 'stiker_grade']"
      ]
     },
     "execution_count": 34,
     "metadata": {},
     "output_type": "execute_result"
    }
   ],
   "source": [
    "strikers=strikers.drop('finishing','acceleration','shot_power')\n",
    "strikers.columns"
   ]
  },
  {
   "cell_type": "code",
   "execution_count": 35,
   "metadata": {},
   "outputs": [
    {
     "name": "stdout",
     "output_type": "stream",
     "text": [
      "+-------------+-----------------+\n",
      "|player_api_id|     stiker_grade|\n",
      "+-------------+-----------------+\n",
      "|        20276|            89.25|\n",
      "|        37412|             89.0|\n",
      "|        38817|            88.75|\n",
      "|        32118|            88.25|\n",
      "|        31921|             87.0|\n",
      "|        30834|            86.75|\n",
      "|       303824|85.10714285714286|\n",
      "|       129944|             85.0|\n",
      "|       158263|            84.75|\n",
      "|       150565|            84.75|\n",
      "|        25759|84.66666666666667|\n",
      "|       156726|             84.5|\n",
      "|       169193|          84.4375|\n",
      "|       286119|84.42857142857143|\n",
      "|        30348|           84.375|\n",
      "|        93447|            84.25|\n",
      "|        46509|            84.25|\n",
      "|        50047|            84.25|\n",
      "|       181276|             84.0|\n",
      "|       178812|             84.0|\n",
      "+-------------+-----------------+\n",
      "only showing top 20 rows\n",
      "\n"
     ]
    }
   ],
   "source": [
    "strikers=strikers.filter(strikers.stiker_grade > 70 )\\\n",
    "                 .sort(strikers.stiker_grade.desc())\n",
    "\n",
    "strikers.show()"
   ]
  },
  {
   "cell_type": "code",
   "execution_count": 36,
   "metadata": {},
   "outputs": [
    {
     "data": {
      "text/plain": [
       "(1609, 11060)"
      ]
     },
     "execution_count": 36,
     "metadata": {},
     "output_type": "execute_result"
    }
   ],
   "source": [
    "strikers.count(),players.count()"
   ]
  },
  {
   "cell_type": "code",
   "execution_count": 37,
   "metadata": {},
   "outputs": [],
   "source": [
    "striker_details=players.join(strikers,players.player_api_id==strikers.player_api_id)"
   ]
  },
  {
   "cell_type": "code",
   "execution_count": 38,
   "metadata": {},
   "outputs": [
    {
     "data": {
      "text/plain": [
       "['player_api_id',\n",
       " 'player_name',\n",
       " 'birthday',\n",
       " 'height',\n",
       " 'weight',\n",
       " 'player_api_id',\n",
       " 'stiker_grade']"
      ]
     },
     "execution_count": 38,
     "metadata": {},
     "output_type": "execute_result"
    }
   ],
   "source": [
    "striker_details.columns"
   ]
  },
  {
   "cell_type": "code",
   "execution_count": 39,
   "metadata": {},
   "outputs": [
    {
     "data": {
      "text/plain": [
       "1609"
      ]
     },
     "execution_count": 39,
     "metadata": {},
     "output_type": "execute_result"
    }
   ],
   "source": [
    "striker_details.count()"
   ]
  },
  {
   "cell_type": "code",
   "execution_count": 40,
   "metadata": {},
   "outputs": [],
   "source": [
    "striker_details=players.join(strikers,['player_api_id'])"
   ]
  },
  {
   "cell_type": "code",
   "execution_count": 41,
   "metadata": {},
   "outputs": [
    {
     "name": "stdout",
     "output_type": "stream",
     "text": [
      "+-------------+--------------+-------------------+------+------+------------+\n",
      "|player_api_id|   player_name|           birthday|height|weight|stiker_grade|\n",
      "+-------------+--------------+-------------------+------+------+------------+\n",
      "|        20276|          Hulk|1986-07-25 00:00:00|180.34|   187|       89.25|\n",
      "|        37412| Sergio Aguero|1988-06-02 00:00:00|172.72|   163|        89.0|\n",
      "|        38817|  Carlos Tevez|1984-02-05 00:00:00|172.72|   157|       88.75|\n",
      "|        32118|Lukas Podolski|1985-06-04 00:00:00|182.88|   183|       88.25|\n",
      "|        31921|   Gareth Bale|1989-07-16 00:00:00|182.88|   163|        87.0|\n",
      "+-------------+--------------+-------------------+------+------+------------+\n",
      "only showing top 5 rows\n",
      "\n"
     ]
    }
   ],
   "source": [
    "striker_details.show(5)"
   ]
  },
  {
   "cell_type": "code",
   "execution_count": 42,
   "metadata": {},
   "outputs": [],
   "source": [
    "from pyspark.sql.functions import broadcast"
   ]
  },
  {
   "cell_type": "code",
   "execution_count": 46,
   "metadata": {},
   "outputs": [],
   "source": [
    "striker_details=players.select(\"player_api_id\",\"player_name\").join(broadcast(strikers),['player_api_id'],'inner')"
   ]
  },
  {
   "cell_type": "code",
   "execution_count": 48,
   "metadata": {},
   "outputs": [],
   "source": [
    "striker_details=striker_details.sort(striker_details.stiker_grade.desc())"
   ]
  },
  {
   "cell_type": "code",
   "execution_count": 49,
   "metadata": {},
   "outputs": [
    {
     "name": "stdout",
     "output_type": "stream",
     "text": [
      "+-------------+--------------+------------+\n",
      "|player_api_id|   player_name|stiker_grade|\n",
      "+-------------+--------------+------------+\n",
      "|        20276|          Hulk|       89.25|\n",
      "|        37412| Sergio Aguero|        89.0|\n",
      "|        38817|  Carlos Tevez|       88.75|\n",
      "|        32118|Lukas Podolski|       88.25|\n",
      "|        31921|   Gareth Bale|        87.0|\n",
      "+-------------+--------------+------------+\n",
      "only showing top 5 rows\n",
      "\n"
     ]
    }
   ],
   "source": [
    "striker_details.show(5)"
   ]
  },
  {
   "cell_type": "code",
   "execution_count": 60,
   "metadata": {},
   "outputs": [
    {
     "data": {
      "text/plain": [
       "(11060, 183978)"
      ]
     },
     "execution_count": 60,
     "metadata": {},
     "output_type": "execute_result"
    }
   ],
   "source": [
    "players.count(),players_attributes.count()"
   ]
  },
  {
   "cell_type": "code",
   "execution_count": 63,
   "metadata": {},
   "outputs": [],
   "source": [
    "players_heading_acc=players_attributes.select('player_api_id','heading_accuracy')\\\n",
    "                                     .join(broadcast(players),players_attributes.player_api_id == players.player_api_id)"
   ]
  },
  {
   "cell_type": "code",
   "execution_count": 64,
   "metadata": {},
   "outputs": [
    {
     "data": {
      "text/plain": [
       "['player_api_id',\n",
       " 'heading_accuracy',\n",
       " 'player_api_id',\n",
       " 'player_name',\n",
       " 'birthday',\n",
       " 'height',\n",
       " 'weight']"
      ]
     },
     "execution_count": 64,
     "metadata": {},
     "output_type": "execute_result"
    }
   ],
   "source": [
    "players_heading_acc.columns"
   ]
  },
  {
   "cell_type": "code",
   "execution_count": 65,
   "metadata": {},
   "outputs": [],
   "source": [
    "short_count=spark.sparkContext.accumulator(0)\n",
    "medium_low_count=spark.sparkContext.accumulator(0)\n",
    "medium_high_count=spark.sparkContext.accumulator(0)\n",
    "tail_count=spark.sparkContext.accumulator(0)"
   ]
  },
  {
   "cell_type": "code",
   "execution_count": 66,
   "metadata": {},
   "outputs": [],
   "source": [
    "def count_players_by_height(row) :\n",
    "    height = float (row.height)\n",
    "    \n",
    "    if (height <= 175):\n",
    "        short_count.add(1)\n",
    "    elif(height <=183 and height > 175):\n",
    "        medium_low_count.add(1)\n",
    "    elif(height <=195 and height > 183):\n",
    "        medium_high_count.add(1)\n",
    "    elif(height > 195):\n",
    "        tail_count.add(1)"
   ]
  },
  {
   "cell_type": "code",
   "execution_count": 68,
   "metadata": {},
   "outputs": [],
   "source": [
    "players_heading_acc.foreach( lambda x : count_players_by_height(x))"
   ]
  },
  {
   "cell_type": "code",
   "execution_count": 70,
   "metadata": {},
   "outputs": [
    {
     "data": {
      "text/plain": [
       "[Accumulator<id=0, value=19204>,\n",
       " Accumulator<id=1, value=98958>,\n",
       " Accumulator<id=2, value=62411>,\n",
       " Accumulator<id=3, value=3405>]"
      ]
     },
     "execution_count": 70,
     "metadata": {},
     "output_type": "execute_result"
    }
   ],
   "source": [
    "all_players=[short_count,medium_low_count,medium_high_count,tail_count]\n",
    "all_players"
   ]
  },
  {
   "cell_type": "code",
   "execution_count": 71,
   "metadata": {},
   "outputs": [
    {
     "name": "stdout",
     "output_type": "stream",
     "text": [
      "+---+------------------+-------------+--------------+---------+--------------+-------------------+-------------------+--------+---------+----------------+-------------+-------+---------+-----+------------------+------------+------------+------------+------------+-------+---------+-------+----------+-------+-------+--------+----------+----------+-------------+-----------+------+---------+-------+---------------+--------------+---------+-----------+----------+--------------+-----------+----+\n",
      "| id|player_fifa_api_id|player_api_id|overall_rating|potential|preferred_foot|attacking_work_rate|defensive_work_rate|crossing|finishing|heading_accuracy|short_passing|volleys|dribbling|curve|free_kick_accuracy|long_passing|ball_control|acceleration|sprint_speed|agility|reactions|balance|shot_power|jumping|stamina|strength|long_shots|aggression|interceptions|positioning|vision|penalties|marking|standing_tackle|sliding_tackle|gk_diving|gk_handling|gk_kicking|gk_positioning|gk_reflexes|year|\n",
      "+---+------------------+-------------+--------------+---------+--------------+-------------------+-------------------+--------+---------+----------------+-------------+-------+---------+-----+------------------+------------+------------+------------+------------+-------+---------+-------+----------+-------+-------+--------+----------+----------+-------------+-----------+------+---------+-------+---------------+--------------+---------+-----------+----------+--------------+-----------+----+\n",
      "|  1|            218353|       505942|            67|       71|         right|             medium|             medium|      49|       44|              71|           61|     44|       51|   45|                39|          64|          49|          60|          64|     59|       47|     65|        55|     58|     54|      76|        35|        71|           70|         45|    54|       48|     65|             69|            69|        6|         11|        10|             8|          8|2016|\n",
      "|  6|            189615|       155782|            74|       76|          left|               high|             medium|      80|       53|              58|           71|     40|       73|   70|                69|          68|          71|          79|          78|     78|       67|     90|        71|     85|     79|      56|        62|        68|           67|         60|    66|       59|     76|             75|            78|       14|          7|         9|             9|         12|2016|\n",
      "+---+------------------+-------------+--------------+---------+--------------+-------------------+-------------------+--------+---------+----------------+-------------+-------+---------+-----+------------------+------------+------------+------------+------------+-------+---------+-------+----------+-------+-------+--------+----------+----------+-------------+-----------+------+---------+-------+---------------+--------------+---------+-----------+----------+--------------+-----------+----+\n",
      "only showing top 2 rows\n",
      "\n"
     ]
    }
   ],
   "source": [
    "pa_2016.show(2)"
   ]
  },
  {
   "cell_type": "code",
   "execution_count": 72,
   "metadata": {},
   "outputs": [],
   "source": [
    "pa_2016.select(\"player_api_id\",\"overall_rating\")\\\n",
    "       .coalesce(1)\\#creates single file  from all partitions\n",
    "       .write\\\n",
    "       .option(\"header\",\"true\")\\\n",
    "       .csv(\"/home/output/player_overall.csv\")"
   ]
  },
  {
   "cell_type": "code",
   "execution_count": 73,
   "metadata": {},
   "outputs": [],
   "source": [
    "pa_2016.select(\"player_api_id\",\"overall_rating\")\\\n",
    "       .write\\\n",
    "       .json(\"/home/output/player_overall.json\")"
   ]
  },
  {
   "cell_type": "code",
   "execution_count": null,
   "metadata": {},
   "outputs": [],
   "source": []
  }
 ],
 "metadata": {
  "kernelspec": {
   "display_name": "Python 3",
   "language": "python",
   "name": "python3"
  },
  "language_info": {
   "codemirror_mode": {
    "name": "ipython",
    "version": 3
   },
   "file_extension": ".py",
   "mimetype": "text/x-python",
   "name": "python",
   "nbconvert_exporter": "python",
   "pygments_lexer": "ipython3",
   "version": "3.7.3"
  }
 },
 "nbformat": 4,
 "nbformat_minor": 2
}
